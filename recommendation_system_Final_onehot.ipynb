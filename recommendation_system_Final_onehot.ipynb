{
  "nbformat": 4,
  "nbformat_minor": 0,
  "metadata": {
    "colab": {
      "name": "recommendation_system_Final_onehot.ipynb",
      "provenance": [],
      "collapsed_sections": [
        "niWtMN9ZlbHy",
        "C3atByO1lbH0",
        "XmegDmdWlbH0",
        "EmUrp53nlbH2"
      ],
      "mount_file_id": "1HlD23GbCdUqpfQFPe6R4oZHab88gEzXY",
      "authorship_tag": "ABX9TyPIYy8WULVboIKXTALS0OHM",
      "include_colab_link": true
    },
    "kernelspec": {
      "name": "python3",
      "display_name": "Python 3"
    },
    "language_info": {
      "name": "python"
    }
  },
  "cells": [
    {
      "cell_type": "markdown",
      "metadata": {
        "id": "view-in-github",
        "colab_type": "text"
      },
      "source": [
        "<a href=\"https://colab.research.google.com/github/lagaleno/recommendation_system/blob/main/recommendation_system_Final_onehot.ipynb\" target=\"_parent\"><img src=\"https://colab.research.google.com/assets/colab-badge.svg\" alt=\"Open In Colab\"/></a>"
      ]
    },
    {
      "cell_type": "markdown",
      "source": [
        "# Documentos anexo:\n",
        "- [Relatório sobre o experimento](https://drive.google.com/file/d/12BVbx074xXr2Abt9WpBN20jpemWmnDhT/view?usp=sharing)\n",
        "- [Apresentação sobre o experimento](https://docs.google.com/presentation/d/1o0NParl38DQce7yLwnfmdAt9ztG0qaInEEGk5SVarTk/edit?usp=sharing)"
      ],
      "metadata": {
        "id": "p1aUTpYJSNSJ"
      }
    },
    {
      "cell_type": "markdown",
      "metadata": {
        "id": "9vWZJQU7nmVQ"
      },
      "source": [
        "# Introdução\n",
        "\n",
        "Esse Notebook é referente ao trabalho de métodos numéricos. Nele você encontrará um sistema de recomendação de música a partir de dados de músicas obtidos através da API do Spotify. Para fazer uma recomendação, basta ir na céclula na seção [Principal](https://colab.research.google.com/drive/1HlD23GbCdUqpfQFPe6R4oZHab88gEzXY#scrollTo=Principal) e colocar a URL do sotify e ver o resultado na [Planilha de análise](https://docs.google.com/spreadsheets/d/1ZTD2UqByTBTUK3qPPbtvgAvRwRXb0Rl8UyimejlRnBY/edit?usp=sharing).\n",
        "\n",
        "**Importante: aqui tratamos as features categóricas com OneHot**\n",
        "\n",
        "Índice:\n",
        "- [Inastalação de Dependência](https://colab.research.google.com/drive/1HlD23GbCdUqpfQFPe6R4oZHab88gEzXY#scrollTo=Instala_o_de_depend_ncia) Instalação de bibliotecas extras\n",
        "- [Importando biliotecas](https://colab.research.google.com/drive/1HlD23GbCdUqpfQFPe6R4oZHab88gEzXY#scrollTo=Importando_bibliotecas)\n",
        "- [Credneciais](https://colab.research.google.com/drive/1HlD23GbCdUqpfQFPe6R4oZHab88gEzXY#scrollTo=Credenciais) aqui tem credenciais importantes para acessar a API do spotify\n",
        "- [Configurações Globais](https://colab.research.google.com/drive/1HlD23GbCdUqpfQFPe6R4oZHab88gEzXY#scrollTo=Configura_es_globais) presente variáveis globais, como lista de playlists para ser concatenadas e formar o banco de dados e as colunas que os DataFrames terão\n",
        "- [O dado](https://colab.research.google.com/drive/1HlD23GbCdUqpfQFPe6R4oZHab88gEzXY#scrollTo=O_dado) explicação de como funciona o meu dado e significado das features\n",
        "- [Montando banco de dados de música](https://colab.research.google.com/drive/1HlD23GbCdUqpfQFPe6R4oZHab88gEzXY#scrollTo=Montando_banco_de_dados_de_m_sica) Parte em que junto os dados do Spotify e monto um DataFrame para ter meu banco de dados, ao fim tenho a variável global `db`\n",
        "- [Entrada](https://colab.research.google.com/drive/1HlD23GbCdUqpfQFPe6R4oZHab88gEzXY#scrollTo=Entrada) funções para arrumar a entrada do usuário em um dataframe e parser de URL para pegar o Id\n",
        "- [Funções auxiliares](https://colab.research.google.com/drive/1HlD23GbCdUqpfQFPe6R4oZHab88gEzXY#scrollTo=Fun_es) seção que possui funções auxiliares para o nosso código, como de checar existência, limpar dataframe...\n",
        "- [Funções que calcula similaridade](https://colab.research.google.com/drive/1HlD23GbCdUqpfQFPe6R4oZHab88gEzXY#scrollTo=Fun_es_que_calcula_similaridade) seção que possui as funções para cálculo de similaridade, a distância, cosseno e Kernel Gaussiano\n",
        "- [Método 1](https://colab.research.google.com/drive/1HlD23GbCdUqpfQFPe6R4oZHab88gEzXY#scrollTo=M_todo_1) seção que cáclula a recomendação a partir da distância da música\n",
        "- [Usando redução de dimensão](https://colab.research.google.com/drive/1HlD23GbCdUqpfQFPe6R4oZHab88gEzXY#scrollTo=Usando_redu_o_de_dimens_o) seção com métodos que utilizam o PCA para o cálculo da recomendação\n",
        "  - [Análise das features](https://colab.research.google.com/drive/1HlD23GbCdUqpfQFPe6R4oZHab88gEzXY#scrollTo=An_lise_das_features) analizar o comportamento das features, ver se preciso limpar e quanto componentes são interessantes para o PCA\n",
        "  - [Calcula PCA](https://colab.research.google.com/drive/1HlD23GbCdUqpfQFPe6R4oZHab88gEzXY#scrollTo=Calcula_PCA) seção com funções para o cálculo do PCA\n",
        "  - [Método 2](https://colab.research.google.com/drive/1HlD23GbCdUqpfQFPe6R4oZHab88gEzXY#scrollTo=M_todo_2) calculo da recomendação por meio da distância tendo o pré processamento com PCA\n",
        "  - [Por cosseno](https://colab.research.google.com/drive/1HlD23GbCdUqpfQFPe6R4oZHab88gEzXY#scrollTo=Por_cosseno) seção usando a similaridade por cosseno para cálculo da recomendação\n",
        "    - [Método 3](https://colab.research.google.com/drive/1HlD23GbCdUqpfQFPe6R4oZHab88gEzXY#scrollTo=M_todo_3) sem usar o PCA para pré processamento do dado\n",
        "    - [Método 4](https://colab.research.google.com/drive/1HlD23GbCdUqpfQFPe6R4oZHab88gEzXY#scrollTo=M_todo_4) usando PCA para pré processamento do dado\n",
        "  - [Kernel Gaussiano](https://colab.research.google.com/drive/1HlD23GbCdUqpfQFPe6R4oZHab88gEzXY#scrollTo=Kernel_Gauassiano) usando Kernel Gaussiano para ver similaridade das músicas \n",
        "    - [Método 5](https://colab.research.google.com/drive/1HlD23GbCdUqpfQFPe6R4oZHab88gEzXY#scrollTo=M_todo_5) sem usar o PCA para pré processamento do dado\n",
        "    - [Método 6](https://colab.research.google.com/drive/1HlD23GbCdUqpfQFPe6R4oZHab88gEzXY#scrollTo=M_todo_6) usando o PCA para pré processamento do dado\n",
        "- [Principal](https://colab.research.google.com/drive/1HlD23GbCdUqpfQFPe6R4oZHab88gEzXY#scrollTo=Principal) célula que possui a função main e que chama todos os métodos e registra o resultado na planilha.\n",
        "- [Clusterização](https://colab.research.google.com/drive/1HlD23GbCdUqpfQFPe6R4oZHab88gEzXY#scrollTo=Clusteriza_o) parte em que foi feito o K-Means para clustrizar as músicas do banco de dados"
      ]
    },
    {
      "cell_type": "markdown",
      "metadata": {
        "id": "pGAWIT8CNK3z"
      },
      "source": [
        "# Instalação de dependência\n",
        "A biblioteca Spotipy"
      ]
    },
    {
      "cell_type": "code",
      "metadata": {
        "id": "O4lenFCwnzyn",
        "colab": {
          "base_uri": "https://localhost:8080/"
        },
        "outputId": "89053d11-25a1-4dbf-d98f-8b37bed62f6c"
      },
      "source": [
        "!pip install spotipy\n",
        "!pip install pygsheets"
      ],
      "execution_count": null,
      "outputs": [
        {
          "output_type": "stream",
          "name": "stdout",
          "text": [
            "Collecting spotipy\n",
            "  Downloading spotipy-2.19.0-py3-none-any.whl (27 kB)\n",
            "Collecting urllib3>=1.26.0\n",
            "  Downloading urllib3-1.26.7-py2.py3-none-any.whl (138 kB)\n",
            "\u001b[K     |████████████████████████████████| 138 kB 12.7 MB/s \n",
            "\u001b[?25hRequirement already satisfied: six>=1.15.0 in /usr/local/lib/python3.7/dist-packages (from spotipy) (1.15.0)\n",
            "Collecting requests>=2.25.0\n",
            "  Downloading requests-2.26.0-py2.py3-none-any.whl (62 kB)\n",
            "\u001b[K     |████████████████████████████████| 62 kB 999 kB/s \n",
            "\u001b[?25hRequirement already satisfied: idna<4,>=2.5 in /usr/local/lib/python3.7/dist-packages (from requests>=2.25.0->spotipy) (2.10)\n",
            "Requirement already satisfied: certifi>=2017.4.17 in /usr/local/lib/python3.7/dist-packages (from requests>=2.25.0->spotipy) (2021.5.30)\n",
            "Requirement already satisfied: charset-normalizer~=2.0.0 in /usr/local/lib/python3.7/dist-packages (from requests>=2.25.0->spotipy) (2.0.6)\n",
            "Installing collected packages: urllib3, requests, spotipy\n",
            "  Attempting uninstall: urllib3\n",
            "    Found existing installation: urllib3 1.24.3\n",
            "    Uninstalling urllib3-1.24.3:\n",
            "      Successfully uninstalled urllib3-1.24.3\n",
            "  Attempting uninstall: requests\n",
            "    Found existing installation: requests 2.23.0\n",
            "    Uninstalling requests-2.23.0:\n",
            "      Successfully uninstalled requests-2.23.0\n",
            "\u001b[31mERROR: pip's dependency resolver does not currently take into account all the packages that are installed. This behaviour is the source of the following dependency conflicts.\n",
            "google-colab 1.0.0 requires requests~=2.23.0, but you have requests 2.26.0 which is incompatible.\n",
            "datascience 0.10.6 requires folium==0.2.1, but you have folium 0.8.3 which is incompatible.\u001b[0m\n",
            "Successfully installed requests-2.26.0 spotipy-2.19.0 urllib3-1.26.7\n",
            "Collecting pygsheets\n",
            "  Downloading pygsheets-2.0.5-py2.py3-none-any.whl (147 kB)\n",
            "\u001b[K     |████████████████████████████████| 147 kB 8.2 MB/s \n",
            "\u001b[?25hRequirement already satisfied: google-auth-oauthlib in /usr/local/lib/python3.7/dist-packages (from pygsheets) (0.4.6)\n",
            "Requirement already satisfied: google-api-python-client>=1.5.5 in /usr/local/lib/python3.7/dist-packages (from pygsheets) (1.12.8)\n",
            "Requirement already satisfied: six<2dev,>=1.13.0 in /usr/local/lib/python3.7/dist-packages (from google-api-python-client>=1.5.5->pygsheets) (1.15.0)\n",
            "Requirement already satisfied: httplib2<1dev,>=0.15.0 in /usr/local/lib/python3.7/dist-packages (from google-api-python-client>=1.5.5->pygsheets) (0.17.4)\n",
            "Requirement already satisfied: google-api-core<2dev,>=1.21.0 in /usr/local/lib/python3.7/dist-packages (from google-api-python-client>=1.5.5->pygsheets) (1.26.3)\n",
            "Requirement already satisfied: uritemplate<4dev,>=3.0.0 in /usr/local/lib/python3.7/dist-packages (from google-api-python-client>=1.5.5->pygsheets) (3.0.1)\n",
            "Requirement already satisfied: google-auth>=1.16.0 in /usr/local/lib/python3.7/dist-packages (from google-api-python-client>=1.5.5->pygsheets) (1.35.0)\n",
            "Requirement already satisfied: google-auth-httplib2>=0.0.3 in /usr/local/lib/python3.7/dist-packages (from google-api-python-client>=1.5.5->pygsheets) (0.0.4)\n",
            "Requirement already satisfied: protobuf>=3.12.0 in /usr/local/lib/python3.7/dist-packages (from google-api-core<2dev,>=1.21.0->google-api-python-client>=1.5.5->pygsheets) (3.17.3)\n",
            "Requirement already satisfied: setuptools>=40.3.0 in /usr/local/lib/python3.7/dist-packages (from google-api-core<2dev,>=1.21.0->google-api-python-client>=1.5.5->pygsheets) (57.4.0)\n",
            "Requirement already satisfied: pytz in /usr/local/lib/python3.7/dist-packages (from google-api-core<2dev,>=1.21.0->google-api-python-client>=1.5.5->pygsheets) (2018.9)\n",
            "Requirement already satisfied: requests<3.0.0dev,>=2.18.0 in /usr/local/lib/python3.7/dist-packages (from google-api-core<2dev,>=1.21.0->google-api-python-client>=1.5.5->pygsheets) (2.26.0)\n",
            "Requirement already satisfied: packaging>=14.3 in /usr/local/lib/python3.7/dist-packages (from google-api-core<2dev,>=1.21.0->google-api-python-client>=1.5.5->pygsheets) (21.0)\n",
            "Requirement already satisfied: googleapis-common-protos<2.0dev,>=1.6.0 in /usr/local/lib/python3.7/dist-packages (from google-api-core<2dev,>=1.21.0->google-api-python-client>=1.5.5->pygsheets) (1.53.0)\n",
            "Requirement already satisfied: rsa<5,>=3.1.4 in /usr/local/lib/python3.7/dist-packages (from google-auth>=1.16.0->google-api-python-client>=1.5.5->pygsheets) (4.7.2)\n",
            "Requirement already satisfied: cachetools<5.0,>=2.0.0 in /usr/local/lib/python3.7/dist-packages (from google-auth>=1.16.0->google-api-python-client>=1.5.5->pygsheets) (4.2.4)\n",
            "Requirement already satisfied: pyasn1-modules>=0.2.1 in /usr/local/lib/python3.7/dist-packages (from google-auth>=1.16.0->google-api-python-client>=1.5.5->pygsheets) (0.2.8)\n",
            "Requirement already satisfied: pyparsing>=2.0.2 in /usr/local/lib/python3.7/dist-packages (from packaging>=14.3->google-api-core<2dev,>=1.21.0->google-api-python-client>=1.5.5->pygsheets) (2.4.7)\n",
            "Requirement already satisfied: pyasn1<0.5.0,>=0.4.6 in /usr/local/lib/python3.7/dist-packages (from pyasn1-modules>=0.2.1->google-auth>=1.16.0->google-api-python-client>=1.5.5->pygsheets) (0.4.8)\n",
            "Requirement already satisfied: idna<4,>=2.5 in /usr/local/lib/python3.7/dist-packages (from requests<3.0.0dev,>=2.18.0->google-api-core<2dev,>=1.21.0->google-api-python-client>=1.5.5->pygsheets) (2.10)\n",
            "Requirement already satisfied: urllib3<1.27,>=1.21.1 in /usr/local/lib/python3.7/dist-packages (from requests<3.0.0dev,>=2.18.0->google-api-core<2dev,>=1.21.0->google-api-python-client>=1.5.5->pygsheets) (1.26.7)\n",
            "Requirement already satisfied: charset-normalizer~=2.0.0 in /usr/local/lib/python3.7/dist-packages (from requests<3.0.0dev,>=2.18.0->google-api-core<2dev,>=1.21.0->google-api-python-client>=1.5.5->pygsheets) (2.0.6)\n",
            "Requirement already satisfied: certifi>=2017.4.17 in /usr/local/lib/python3.7/dist-packages (from requests<3.0.0dev,>=2.18.0->google-api-core<2dev,>=1.21.0->google-api-python-client>=1.5.5->pygsheets) (2021.5.30)\n",
            "Requirement already satisfied: requests-oauthlib>=0.7.0 in /usr/local/lib/python3.7/dist-packages (from google-auth-oauthlib->pygsheets) (1.3.0)\n",
            "Requirement already satisfied: oauthlib>=3.0.0 in /usr/local/lib/python3.7/dist-packages (from requests-oauthlib>=0.7.0->google-auth-oauthlib->pygsheets) (3.1.1)\n",
            "Installing collected packages: pygsheets\n",
            "Successfully installed pygsheets-2.0.5\n"
          ]
        }
      ]
    },
    {
      "cell_type": "markdown",
      "metadata": {
        "id": "k11ewHiRNP25"
      },
      "source": [
        "# Importando bibliotecas"
      ]
    },
    {
      "cell_type": "code",
      "metadata": {
        "id": "Iup6VrwIgy0q"
      },
      "source": [
        "# Chamada de API\n",
        "import requests\n",
        "\n",
        "# API do spotify para Python\n",
        "import spotipy\n",
        "from spotipy.oauth2 import SpotifyClientCredentials\n",
        "\n",
        "# Leitura de json de forma simples\n",
        "import json\n",
        "\n",
        "# Lidando com arquivos\n",
        "from google.colab import drive, files\n",
        "import io\n",
        "\n",
        "# Preprocessamento\n",
        "import pandas as pd\n",
        "import numpy as np\n",
        "from sklearn.preprocessing import StandardScaler\n",
        "\n",
        "# Redução de dimensionalidade\n",
        "from sklearn.decomposition import PCA, KernelPCA\n",
        "\n",
        "# Clusterização\n",
        "from sklearn.cluster import KMeans, AgglomerativeClustering\n",
        "import scipy.cluster.hierarchy as sch\n",
        "\n",
        "# Avaliação\n",
        "from sklearn.metrics import silhouette_samples, silhouette_score\n",
        "from sklearn.metrics.pairwise import cosine_similarity, rbf_kernel\n",
        "\n",
        "# Visualização\n",
        "import matplotlib.pyplot as plt\n",
        "import matplotlib.cm as cm\n",
        "import pygsheets"
      ],
      "execution_count": null,
      "outputs": []
    },
    {
      "cell_type": "markdown",
      "metadata": {
        "id": "PCeCcjGfebkW"
      },
      "source": [
        "#Credenciais\n",
        "Necessário para fazer chamada na API do spotify\n",
        "\n",
        "Refrências:\n",
        "- [Setup do ambiente](https://medium.com/@maxtingle/getting-started-with-spotifys-api-spotipy-197c3dc6353b)"
      ]
    },
    {
      "cell_type": "code",
      "metadata": {
        "id": "UPhHE85KrrA4"
      },
      "source": [
        "# dado anonimizado para divulção\n",
        "cid = ''\n",
        "# dado anonimazado para divulgação\n",
        "secret = ''\n",
        "\n",
        "client_credentials_manager = SpotifyClientCredentials(client_id=cid, client_secret=secret)\n",
        "sp = spotipy.Spotify(client_credentials_manager=client_credentials_manager)"
      ],
      "execution_count": null,
      "outputs": []
    },
    {
      "cell_type": "markdown",
      "metadata": {
        "id": "agRORtgkO4nj"
      },
      "source": [
        "# Configurações globais\n",
        "\n",
        "Importante para montar meu banco de dados (dataframe db) e para futuros dataframes"
      ]
    },
    {
      "cell_type": "code",
      "metadata": {
        "id": "tvTjWO9WPOwM"
      },
      "source": [
        "columns = [\"id\", \"danceability\", \"energy\", \"loudness\", \"speechiness\", \"acousticness\", \"instrumentalness\", \"liveness\", \"valence\", \"tempo\", \"key\", \"mode\", \"url\"]\n",
        "# pop, Rock leve, Clássico, MPB, Kpop, Segue o baile (Funk), Samba, Pagode, HipHop\n",
        "playlists = ['37i9dQZF1DX6aTaZa0K6VA', '37i9dQZF1DXcmaoFmN75bi', '37i9dQZF1DWWEJlAGA9gs0', '37i9dQZF1DWZ8wKkpiPwjx', '37i9dQZF1DX9tPFwDMOaN1', '37i9dQZF1DWWmaszSfZpom', '37i9dQZF1DWTUHOvJwQIMp', '37i9dQZF1DWVjNkaVEkL3X', '37i9dQZF1DWSrdTgewhgZq']\n",
        "pd.set_option('display.max_colwidth', None)"
      ],
      "execution_count": null,
      "outputs": []
    },
    {
      "cell_type": "markdown",
      "metadata": {
        "id": "7oCLr8W9-IL2"
      },
      "source": [
        "# O dado"
      ]
    },
    {
      "cell_type": "markdown",
      "metadata": {
        "id": "cD0XbVdkkDtA"
      },
      "source": [
        "Com o dataframe conseguimos fazer, então, os sistema de recomendação. A tabela oferece algumas informações numéricas, as nossas features.\n",
        "\n",
        "## Features\n",
        "\n",
        "Dado o retorno de `sp.audio_features(list_ids[i])` usamos algumas informações para conseguir construir a tabela, foram escolhido os seguintes dados numéricos:\n",
        "```\n",
        "  [\n",
        "    {\n",
        "        \"danceability\"\n",
        "        \"energy\"\n",
        "        \"key\"\n",
        "        \"loudness\"\n",
        "        \"mode\"\n",
        "        \"speechiness\"\n",
        "        \"acousticness\"\n",
        "        \"instrumentalness\"\n",
        "        \"liveness\"\n",
        "        \"valence\"\n",
        "        \"tempo\"\n",
        "    }\n",
        "  ]\n",
        "```\n",
        "- `danceability` valor entre 0.0 e 1.0 que descreve se a música é boa para dançar. Valor mais perto de 0.0 significa que é menos dançável, próximo de 1.0 é mais \"dançável\".\n",
        "- `energy` valor entre 0.0 e 1.0 e mede a intensidade e atividade da música. Músicas energéticas costumam ser rápidas, barulhentas e altas. O quanto mais perto de 1.0 mais energia tem a música\n",
        "- `key` mede a chave musical em que a faixa está inserida a partir de um número inteiro. Segundo o artigo \"Prediction of product success: explaining song\n",
        "popularity by audio features from Spotify data\" os inteiros representam um tom, por exemplo 0 = C, 1 = C♯/D♭, 2 = D e assim por diante.\n",
        "- `loudness` o volume da música em decibéis (dB), o valor apresentado é a média do volume de toda a música. Costuma variar entre -60dB e 0 dB \n",
        "- `mode` indica a modalidade da música, se é major (1) ou minor (0).\n",
        "- `speechiness` detecta a presença de palavras faladas na música. Quanto mais próximo de 1.0 for esse valor mostra que temos mais palavras faladas na música. \n",
        "- `acousticness` valor entre 0.0 e 1.0 que mede se a música é a acústica. Quanto mais próximo de 0.0 menos acústica a música é.\n",
        "- `instrumentalness` valor que prediz se a música não contém vocais. Quanto mais perto de 1.0 mais provável que a música não tenha vocal\n",
        "- `liveness` detecta a presença de um audiência na gravação da música. Quanto maior for o valor, mais provável da música ter sido gravada na presença de uma audiência.\n",
        "- `valence` valor entre 0.0 e 1.0 que descreve a positividade da música. Uma música que parecer ser mais feliz, por exemplo, terá uma valence maior. Enquanto, músicas que são tristes ou com um tom irritado terão um valence menor.\n",
        "- `tempo` o tempo em uma música é a velcidade ou ritmo de um pedaço da música e vem diretamente da média de duração de beat. No caso da feture, o spotify retorna o tempo estimado (média) da música em beats por minuto (BPM)\n",
        "\n",
        "### Referências\n",
        "- [What do Spotify’s audio features tell us about this year’s Eurovision Song Contest?](https://medium.com/@boplantinga/what-do-spotifys-audio-features-tell-us-about-this-year-s-eurovision-song-contest-66ad188e112a)\n",
        "- [Prediction of product success: explaining song\n",
        "popularity by audio features from Spotify data](https://essay.utwente.nl/75422/1/NIJKAMP_BA_IBA.pdf)\n",
        "\n",
        "## Referências\n",
        "- [Spotify API](https://developer.spotify.com/documentation/web-api/)\n",
        "- [Spotify Dashboard](https://developer.spotify.com/dashboard/applications)\n",
        "- [Spotipy Doc](https://spotipy.readthedocs.io/)\n",
        "\n",
        "#### Fontes interessantes para um futuro\n",
        "- [Creating Music by Listening](https://web.media.mit.edu/~tristan/phd/dissertation/)\n",
        "- [To explain or not to explain: the effects of personal characteristics when explaining music recommendations](https://dl.acm.org/doi/10.1145/3301275.3302313)\n",
        "- [Anchoring Bias Affects Mental Model Formation and User Reliance in Explainable AI Systems](https://dl.acm.org/doi/10.1145/3397481.3450639)"
      ]
    },
    {
      "cell_type": "markdown",
      "metadata": {
        "id": "oHcg2dh4ej0w"
      },
      "source": [
        "# Montando banco de dados de música\n",
        "\n",
        "Montar o universo de música possíveis para recomendar"
      ]
    },
    {
      "cell_type": "markdown",
      "metadata": {
        "id": "orf6Oh0XjZei"
      },
      "source": [
        "### Objetivo\n",
        "Dado um conjunto  de playlists no spotify (lista com ids da playlist) retornar um dataframe ou montar um arquivo csv para que possa ser utilizada para o sistema de recomendação. Esse arquivo csv consiste em uma tabela quem tem as features nas colunas e cada linha representa uma música. \n",
        "\n",
        "### Funções\n",
        "\n",
        "### Credenciais\n",
        "- [Setup do ambiente](https://medium.com/@maxtingle/getting-started-with-spotifys-api-spotipy-197c3dc6353b)\n",
        "\n",
        "### Tratar Playlist\n",
        "- `get_playlist(playlist_id)` dada a id de uma playlist do spotify retorna um json (em python um dicionário) com todas as informações da playlist (músicas, artisitas, álbuns, quantidade)\n",
        "- `get_playlist_len(playlist)` dada uma playlist (o retorno json ou dicionário) retornar quantas músicas tem a playlist\n",
        "- `get_relation(playlist)` dada uma playlist (o retorno json ou dicionário) retornar um dicionário que tem como chave o nome das músicas e o valor são os ids (útil para o caso de ter o nome da música e precisar do seu id)\n",
        "- `get_musics_ids(playlist)` dada uma playlist (o retorno json ou dicionário) retornar uma lista somente com os ids das músicas \n",
        "- `get_musics_names(playlist)` dada uma playlist (o retorno json ou dicionário) retornar uma lista somente com os nomes das músicas\n",
        "\n",
        "### Para DataFrame\n",
        "- `get_info(list_ids)` pega as informações de cada música a partir da função da API `sp.audio_features(list_ids[i])` que recebe o id de uma música e retorna uma lista de listas com todas as informações de cada música, sendo uma sublista representando uma música.\n",
        "  - `sp.audio_features(list_ids[i])` dado um id de uma música retorna um json (dicionário em python) com as seguinte informações:\n",
        "  ```\n",
        "  # chamada com id = '3d3ELsqKlQ7WA0a10Isu3l'\n",
        "  [\n",
        "    {\n",
        "        \"danceability\": 0.181,\n",
        "        \"energy\": 0.197,\n",
        "        \"key\": 11,\n",
        "        \"loudness\": -15.395,\n",
        "        \"mode\": 1,\n",
        "        \"speechiness\": 0.0389,\n",
        "        \"acousticness\": 0.861,\n",
        "        \"instrumentalness\": 0.831,\n",
        "        \"liveness\": 0.126,\n",
        "        \"valence\": 0.119,\n",
        "        \"tempo\": 74.226,\n",
        "        \"type\": \"audio_features\",\n",
        "        \"id\": \"1MlIBOGPFbWJlztdELRJLH\",\n",
        "        \"uri\": \"spotify:track:1MlIBOGPFbWJlztdELRJLH\",\n",
        "        \"track_href\": \"https://api.spotify.com/v1/tracks/1MlIBOGPFbWJlztdELRJLH\",\n",
        "        \"analysis_url\": \"https://api.spotify.com/v1/audio-analysis/1MlIBOGPFbWJlztdELRJLH\",\n",
        "        \"duration_ms\": 497233,\n",
        "        \"time_signature\": 4\n",
        "    }\n",
        "]\n",
        "  ```\n",
        "  #### Referências\n",
        "   - `audio_features` [Spotipy Docs](https://spotipy.readthedocs.io/en/2.19.0/?highlight=audio#spotipy.client.Spotify.audio_features) retorna features de uma música dado seu id\n",
        "    - Spotify API [Get Audio Features for a Track](https://developer.spotify.com/console/get-audio-features-track/)\n",
        "\n",
        "- `create_df(playlist, index, columns)` dado o retorno json (ou dicionário) da playlist, a lista de index (no caso o nome das músicas) e as colunas (as features que vieram do retorno json acima) retorna um pandas.DataFrame\n",
        "- `dt.to_csv('out.csv')` transformar o DataFrame retornada da função `create_df` para o arquivo csv com o nome out.csv"
      ]
    },
    {
      "cell_type": "markdown",
      "metadata": {
        "id": "ZEDMBQENfAAw"
      },
      "source": [
        "### métodos de playlist\n",
        "\n",
        "Fazer requisição da playlist, montar o dicionário com ids e nome da música"
      ]
    },
    {
      "cell_type": "code",
      "metadata": {
        "id": "--dnvKuB-YCf"
      },
      "source": [
        "def get_playlist(playlist_id):\n",
        "  '''\n",
        "    Dada o id do playlist retorna um json com as informações da playlist\n",
        "  '''\n",
        "  return sp.playlist(playlist_id)\n",
        "\n",
        "def get_playlist_len(playlist):\n",
        "  '''\n",
        "    Dada a playlist retorna quantas músicas tem \n",
        "  '''\n",
        "  return playlist['tracks']['total']\n",
        "\n",
        "def get_relation(playlist_id):\n",
        "  '''\n",
        "    Dada uma playlist retornar um dicionário que tem a relação da nome da música com o id\n",
        "  '''\n",
        "  playlist = get_playlist(playlist_id)\n",
        "  tracks = {}\n",
        "  len = get_playlist_len(playlist)\n",
        "  if len > 100:\n",
        "    len = 100\n",
        "  \n",
        "  for i in range(len):\n",
        "    '''\n",
        "      Filtra as músicas existentes da playlist\n",
        "    '''\n",
        "    if playlist['tracks']['items'][i].get('track'):\n",
        "      title = playlist['tracks']['items'][i]['track']['name']\n",
        "      id = playlist['tracks']['items'][i]['track']['id']\n",
        "      tracks[title] = id\n",
        "    \n",
        "  return tracks\n",
        "\n",
        "def concatenate_playlists(playlists):\n",
        "  '''\n",
        "    Recebe como parâmetro uma lista que tem os ids das playlists\n",
        "    Retorna: uma tabela com todas as músicas das playlists e um arquivo csv com a tabela\n",
        "  '''\n",
        "  dataset = {} # salvar o nome das músicas e ID em um dicionário\n",
        "  for i in range(len(playlists)):\n",
        "    rel = get_relation(playlists[i])\n",
        "    dataset.update(rel)\n",
        "\n",
        "  musics = list(dataset.keys()) # lista com o nome das músicas\n",
        "  ids = list(dataset.values()) # lista com os ids das músicas\n",
        "\n",
        "  df = create_df(ids, musics, columns)\n",
        "\n",
        "  return df, df.to_csv('out.csv')\n"
      ],
      "execution_count": null,
      "outputs": []
    },
    {
      "cell_type": "markdown",
      "metadata": {
        "id": "WJDhXCJ9fPe1"
      },
      "source": [
        "### transformando em dataframe\n",
        "\n",
        "a partir dos ids salvo no dicionário fazer a requisição e salvar em um data frame e arquivo csv com nome `out.csv`"
      ]
    },
    {
      "cell_type": "code",
      "metadata": {
        "id": "-LooWBCdeh8U"
      },
      "source": [
        "def get_info(list_ids):\n",
        "  '''\n",
        "    Dada uma lista de ids de músicas retornar a informação de uma música somente\n",
        "  '''\n",
        "  musics_info = []\n",
        "\n",
        "  for i in range(len(list_ids)):\n",
        "    row = []\n",
        "    music_info_dict = sp.audio_features(list_ids[i])\n",
        "    # row representa a linha do meu data set\n",
        "    row.extend([list_ids[i], music_info_dict[0][\"danceability\"], music_info_dict[0][\"energy\"], music_info_dict[0][\"loudness\"],\n",
        "                           music_info_dict[0][\"speechiness\"], music_info_dict[0][\"acousticness\"], music_info_dict[0][\"instrumentalness\"],\n",
        "                           music_info_dict[0][\"liveness\"], music_info_dict[0][\"valence\"], music_info_dict[0][\"tempo\"], music_info_dict[0][\"key\"], \n",
        "                           music_info_dict[0][\"mode\"]])\n",
        "    row.append('https://open.spotify.com/track/' + list_ids[i])\n",
        "    musics_info.append(row)\n",
        "  \n",
        "  return musics_info\n",
        "\n",
        "def create_df(ids, musics, columns):\n",
        "  data = get_info(ids)\n",
        "  \n",
        "  return pd.DataFrame(data, index=musics, columns=columns)\n",
        "\n",
        "def create_file(df):\n",
        "  return df.to_csv('out.csv')\n",
        "\n",
        "def get_data(playlist_id):\n",
        "  '''\n",
        "    Recebe o id da playlist e retorna o dataframe e o arquivo\n",
        "  '''\n",
        "  dataset = get_relation(playlist_id)\n",
        "\n",
        "  df = create_df(list(dataset.values()), list(dataset.keys()), columns)\n",
        "  \n",
        "  return df, df.to_csv('out.csv')"
      ],
      "execution_count": null,
      "outputs": []
    },
    {
      "cell_type": "markdown",
      "metadata": {
        "id": "Hh-mFc8EvWy9"
      },
      "source": [
        "## Montando o banco\n",
        "Servirá como uma variável global e usarei cópias dele nas outras seções"
      ]
    },
    {
      "cell_type": "code",
      "metadata": {
        "id": "z-WBtDaGvcHo"
      },
      "source": [
        "db, file_csv = concatenate_playlists(playlists)"
      ],
      "execution_count": null,
      "outputs": []
    },
    {
      "cell_type": "code",
      "metadata": {
        "colab": {
          "base_uri": "https://localhost:8080/"
        },
        "id": "qnJl5RPahkTY",
        "outputId": "327db92d-5c5a-45db-d50d-ffa581d43e73"
      },
      "source": [
        "db.shape"
      ],
      "execution_count": null,
      "outputs": [
        {
          "output_type": "execute_result",
          "data": {
            "text/plain": [
              "(661, 13)"
            ]
          },
          "metadata": {},
          "execution_count": 8
        }
      ]
    },
    {
      "cell_type": "markdown",
      "metadata": {
        "id": "CYgtUeqiJ3nY"
      },
      "source": [
        "Nesse caso precisamos da informação com os dados categóricos em numéricos, ou seja, fazer o one hot"
      ]
    },
    {
      "cell_type": "code",
      "metadata": {
        "id": "0UzhVSJaKACM"
      },
      "source": [
        "db_copy = db.copy()\n",
        "db_onehot = pd.get_dummies(db_copy, columns=['key', 'mode'])"
      ],
      "execution_count": null,
      "outputs": []
    },
    {
      "cell_type": "markdown",
      "metadata": {
        "id": "CS_aPIBC-MIJ"
      },
      "source": [
        "# Entrada"
      ]
    },
    {
      "cell_type": "code",
      "metadata": {
        "id": "LE1eCElkA795"
      },
      "source": [
        "def get_id(url):\n",
        "  '''\n",
        "    Recebe url do spotify e retorna o id da música/playlist\n",
        "  '''\n",
        "  # definir se o link entrada começa com https\n",
        "  if url[0] == 'h':\n",
        "    return url[31:53]\n",
        "  else: # começa direto no open.spotify ...\n",
        "    return url[23:45]\n",
        "    \n",
        "def get_input_df(url): \n",
        "  input_id = get_id(url)\n",
        "  input_info = sp.audio_features(input_id)\n",
        "  info_list = []\n",
        "  info_list.extend([input_info[0]['id'], input_info[0][\"danceability\"], input_info[0][\"energy\"], input_info[0][\"loudness\"],\n",
        "                            input_info[0][\"speechiness\"], input_info[0][\"acousticness\"], input_info[0][\"instrumentalness\"],\n",
        "                            input_info[0][\"liveness\"], input_info[0][\"valence\"], input_info[0][\"tempo\"], input_info[0][\"key\"], input_info[0][\"mode\"]]) \n",
        "  info_list.append(url)\n",
        "\n",
        "  input_track_name = sp.track(input_id)['name']\n",
        "\n",
        "  # fazer o one_hot de acordo com a tabela de banco de dados\n",
        "  new_row = pd.DataFrame([info_list], index=[input_track_name], columns=columns)\n",
        "  temp_db = db_copy.append(new_row)\n",
        "  temp_df = pd.get_dummies(temp_db, columns=['key', 'mode'])\n",
        "  input_df = temp_df.iloc[[-1]]\n",
        "  # db_copy.drop([input_track_name], axis=0)\n",
        "  return input_df, new_row\n"
      ],
      "execution_count": null,
      "outputs": []
    },
    {
      "cell_type": "markdown",
      "metadata": {
        "id": "5BU7VNZa-PEA"
      },
      "source": [
        "# Funções auxiliares"
      ]
    },
    {
      "cell_type": "code",
      "metadata": {
        "id": "2BYr7qgVn3ze"
      },
      "source": [
        "def get_df_by_file():\n",
        "  '''\n",
        "    útil para quando tenho o arquivo csv, retorna o dataframe original e o pronto para transformar em numpy\n",
        "  '''\n",
        "  uploaded = files.upload()\n",
        "  arq =  list(uploaded)[0]\n",
        "  df = pd.read_csv(arq)\n",
        "  return df\n",
        "\n",
        "\n",
        "def get_df(playlist_id):\n",
        "  '''\n",
        "    útil para usar o dataframe feito no código,  retorna o dataframe original e o pronto para transformar em numpy\n",
        "  '''\n",
        "  # df = get_data(playlist_id)[0] # situação que tenho uma playlist\n",
        "  df = concatenate_playlists(playlist_id)\n",
        "  return df\n",
        "\n",
        "def df_to_np(df):\n",
        "  return df.to_numpy()\n",
        "\n",
        "def clean_df(one_hot, df):\n",
        "  '''\n",
        "    Recebe um dataframe e um boolenao indicando se apliquei one_hot nos dados categoricos (key e mode)\n",
        "    retorna um novo df pronto para virar numpy array\n",
        "  '''\n",
        "  if one_hot == False: # significa que preciso deltar as colunas com informações categóricas\n",
        "    # checa se tenho a coluna unnamed: 0 que acontece quando tenho upload de arquivos\n",
        "    if 'Unnamed: 0' in df.columns:\n",
        "      return df.drop(['Unnamed: 0', 'id', 'key', 'mode', 'url'], axis=1)\n",
        "    \n",
        "    return df.drop(['id', 'key', 'mode', 'url'], axis=1)\n",
        "  \n",
        "  # no de aplicar o one_hot nos dados categoricos não preciso tira-los do dataframe\n",
        "  # checa se tenho a coluna unnamed: 0 que acontece quando tenho upload de arquivos\n",
        "  if 'Unnamed: 0' in df.columns:\n",
        "    return df.drop(['Unnamed: 0', 'id', 'url'], axis=1)\n",
        "  \n",
        "  return df.drop(['id', 'url'], axis=1)\n",
        "\n",
        "def check_existence(df, input_df):\n",
        "  '''\n",
        "    Checo no meu universo (db) se tem a música que o usuário entrou\n",
        "    Caso tenha, retiro ela do universo\n",
        "  '''\n",
        "  db_index = db.index\n",
        "  condition = input_df[\"id\"].item() == db[\"id\"]\n",
        "  if db_index[condition].any():\n",
        "    track_name = db_index[condition].tolist()[0]\n",
        "    position = db_index.tolist().index(track_name)\n",
        "    if type(df.index.tolist()[position]) == str:\n",
        "      temp = df.drop([track_name], axis=0)\n",
        "      return temp\n",
        "    else:\n",
        "      temp = df.drop([position], axis=0)\n",
        "\n",
        "      return temp\n",
        "\n",
        "  return df\n"
      ],
      "execution_count": null,
      "outputs": []
    },
    {
      "cell_type": "markdown",
      "metadata": {
        "id": "TF9YKLWlcbj1"
      },
      "source": [
        "# Funções que calcula similaridade"
      ]
    },
    {
      "cell_type": "markdown",
      "metadata": {
        "id": "SB4ZtMPUcenh"
      },
      "source": [
        "## Por distância\n",
        "\n",
        "Métodos 1 e 2"
      ]
    },
    {
      "cell_type": "code",
      "metadata": {
        "id": "KYTAsr6vcdvh"
      },
      "source": [
        "def compute_distance(x, y):\n",
        "  '''\n",
        "    Recebe dois vetores, x e y e retorna a distância\n",
        "  '''\n",
        "  return np.linalg.norm(x - y)\n",
        "\n",
        "def get_shortest_distance(matrix, input_vector):\n",
        "  '''\n",
        "    Pegar o valor mais próximo da matriz ao vetor de entrada\n",
        "  '''\n",
        "  qtd_musicas = np.shape(matrix)[0]\n",
        "  dist = compute_distance(matrix[0], input_vector)\n",
        "  rec_id = 0 # id da música recomendada\n",
        "    \n",
        "  for i in range(1, qtd_musicas):\n",
        "    candidate = compute_distance(matrix[i], input_vector)\n",
        "    if  candidate < dist: # atualiza a distância\n",
        "      dist = candidate\n",
        "      rec_id = i\n",
        "  \n",
        "  return rec_id\n",
        "\n",
        "def get_recommendation_by_distance(input_df, df):\n",
        "  '''\n",
        "    A partir da música entrada de músicas retornar a recomendada (a mais próxima)\n",
        "  '''\n",
        "  matrix = df_to_np(df)\n",
        "  input_vector = df_to_np(input_df)\n",
        "  rec_id = get_shortest_distance(matrix, input_vector)\n",
        "  \n",
        "\n",
        "  return db.iloc[[rec_id]]\n"
      ],
      "execution_count": null,
      "outputs": []
    },
    {
      "cell_type": "markdown",
      "metadata": {
        "id": "JYx4WEOWB7yF"
      },
      "source": [
        "## Por cosseno\n",
        "\n",
        "Métodos 3 e 4"
      ]
    },
    {
      "cell_type": "code",
      "metadata": {
        "id": "3xDY4r7NB-kN"
      },
      "source": [
        "def get_recommendation_by_cosine(np_db, np_input):\n",
        "  '''\n",
        "    Recebe o database e o input em formato de numpy array\n",
        "  '''\n",
        "  cos_sim = cosine_similarity(np_db, np_input)\n",
        "  val = np.amax(cos_sim)\n",
        "  rec_id = np.where(cos_sim == val)[0]\n",
        "  \n",
        "  # print(\"Similaridade dos cosenos foi de:\", val)\n",
        "  return db.iloc[rec_id]"
      ],
      "execution_count": null,
      "outputs": []
    },
    {
      "cell_type": "markdown",
      "metadata": {
        "id": "pVMhgsX1B-3i"
      },
      "source": [
        "## Por kernel Gaussiano\n",
        "\n",
        "Métodos 5 e 6"
      ]
    },
    {
      "cell_type": "code",
      "metadata": {
        "id": "aYn9n_77CFa8"
      },
      "source": [
        "def get_recommendation_by_kernelgaussian(np_db, np_input):\n",
        "  kernel = rbf_kernel(np_db, np_input)\n",
        "  val = np.amax(kernel)\n",
        "  rec_id = np.where(kernel == val)[0]\n",
        "  \n",
        "  # print(\"Similaridade do Kernel Gaussiano foi de:\", val)\n",
        "  return db.iloc[rec_id]"
      ],
      "execution_count": null,
      "outputs": []
    },
    {
      "cell_type": "markdown",
      "metadata": {
        "id": "3vaaVU-nM7cz"
      },
      "source": [
        "# Método 1"
      ]
    },
    {
      "cell_type": "code",
      "metadata": {
        "id": "NseM3-oLlbHw"
      },
      "source": [
        "def distance_onehot(input_df):\n",
        "  # checa se a música entrada não está no df entrado\n",
        "  db_unique = check_existence(db_onehot.copy(), input_df)\n",
        "  res = get_recommendation_by_distance(clean_df(True, input_df), clean_df(True, db_unique))\n",
        "\n",
        "  return res"
      ],
      "execution_count": null,
      "outputs": []
    },
    {
      "cell_type": "markdown",
      "metadata": {
        "id": "j3oUPM8dlbHw"
      },
      "source": [
        "# Usando redução de dimensão\n",
        "Faz pré processamento (redução de dimensionalidade com o PCA) para fazer a recomendação"
      ]
    },
    {
      "cell_type": "code",
      "metadata": {
        "id": "itKpjuPhlbHy"
      },
      "source": [
        "# normalizar globalmente \n",
        "def normalize(scaler, df):\n",
        "  '''\n",
        "    Recebe o scaler o dataframe para normalizar e retorna o dataframe normalizado\n",
        "  '''\n",
        "  df_normalized = scaler.fit_transform(df)\n",
        "  return pd.DataFrame(df_normalized)\n",
        "\n",
        "# normaliza o dado\n",
        "scaler = StandardScaler()\n",
        "normalized = normalize(scaler, clean_df(True, db_onehot.copy())) # será uma variável Global\n",
        "\n",
        "# monta o modelo do PCA globalmente\n",
        "pca = PCA()\n",
        "principal_components = pca.fit_transform(normalized) # montamos o modelo do PCA"
      ],
      "execution_count": null,
      "outputs": []
    },
    {
      "cell_type": "markdown",
      "metadata": {
        "id": "niWtMN9ZlbHy"
      },
      "source": [
        "### Análise das features"
      ]
    },
    {
      "cell_type": "markdown",
      "metadata": {
        "id": "a2rVJlZylbHy"
      },
      "source": [
        "Vendo se existem atributos altamente correlacionados (em geral se tem valor maior que 0.9). AO rodar, vemos que os valores, a princípio, estão tranquilos"
      ]
    },
    {
      "cell_type": "code",
      "metadata": {
        "colab": {
          "base_uri": "https://localhost:8080/"
        },
        "id": "091Z0OcwlbHz",
        "outputId": "10584961-dc54-4841-9f7c-0a5f83a638e6"
      },
      "source": [
        "corr = db.corr()\n",
        "corr.style.background_gradient(cmap='coolwarm')"
      ],
      "execution_count": null,
      "outputs": [
        {
          "output_type": "execute_result",
          "data": {
            "text/html": [
              "<style  type=\"text/css\" >\n",
              "#T_9272a3ee_2c94_11ec_ae5e_0242ac1c0002row0_col0,#T_9272a3ee_2c94_11ec_ae5e_0242ac1c0002row1_col1,#T_9272a3ee_2c94_11ec_ae5e_0242ac1c0002row2_col2,#T_9272a3ee_2c94_11ec_ae5e_0242ac1c0002row3_col3,#T_9272a3ee_2c94_11ec_ae5e_0242ac1c0002row4_col4,#T_9272a3ee_2c94_11ec_ae5e_0242ac1c0002row5_col5,#T_9272a3ee_2c94_11ec_ae5e_0242ac1c0002row6_col6,#T_9272a3ee_2c94_11ec_ae5e_0242ac1c0002row7_col7,#T_9272a3ee_2c94_11ec_ae5e_0242ac1c0002row8_col8,#T_9272a3ee_2c94_11ec_ae5e_0242ac1c0002row9_col9,#T_9272a3ee_2c94_11ec_ae5e_0242ac1c0002row10_col10{\n",
              "            background-color:  #b40426;\n",
              "            color:  #f1f1f1;\n",
              "        }#T_9272a3ee_2c94_11ec_ae5e_0242ac1c0002row0_col1{\n",
              "            background-color:  #f7a688;\n",
              "            color:  #000000;\n",
              "        }#T_9272a3ee_2c94_11ec_ae5e_0242ac1c0002row0_col2{\n",
              "            background-color:  #ed8366;\n",
              "            color:  #000000;\n",
              "        }#T_9272a3ee_2c94_11ec_ae5e_0242ac1c0002row0_col3,#T_9272a3ee_2c94_11ec_ae5e_0242ac1c0002row9_col2{\n",
              "            background-color:  #cedaeb;\n",
              "            color:  #000000;\n",
              "        }#T_9272a3ee_2c94_11ec_ae5e_0242ac1c0002row0_col4,#T_9272a3ee_2c94_11ec_ae5e_0242ac1c0002row4_col6,#T_9272a3ee_2c94_11ec_ae5e_0242ac1c0002row6_col3{\n",
              "            background-color:  #6687ed;\n",
              "            color:  #000000;\n",
              "        }#T_9272a3ee_2c94_11ec_ae5e_0242ac1c0002row0_col5{\n",
              "            background-color:  #4e68d8;\n",
              "            color:  #000000;\n",
              "        }#T_9272a3ee_2c94_11ec_ae5e_0242ac1c0002row0_col6{\n",
              "            background-color:  #5977e3;\n",
              "            color:  #000000;\n",
              "        }#T_9272a3ee_2c94_11ec_ae5e_0242ac1c0002row0_col7,#T_9272a3ee_2c94_11ec_ae5e_0242ac1c0002row5_col4{\n",
              "            background-color:  #f49a7b;\n",
              "            color:  #000000;\n",
              "        }#T_9272a3ee_2c94_11ec_ae5e_0242ac1c0002row0_col8{\n",
              "            background-color:  #b1cbfc;\n",
              "            color:  #000000;\n",
              "        }#T_9272a3ee_2c94_11ec_ae5e_0242ac1c0002row0_col9,#T_9272a3ee_2c94_11ec_ae5e_0242ac1c0002row5_col10{\n",
              "            background-color:  #779af7;\n",
              "            color:  #000000;\n",
              "        }#T_9272a3ee_2c94_11ec_ae5e_0242ac1c0002row0_col10,#T_9272a3ee_2c94_11ec_ae5e_0242ac1c0002row4_col3{\n",
              "            background-color:  #465ecf;\n",
              "            color:  #f1f1f1;\n",
              "        }#T_9272a3ee_2c94_11ec_ae5e_0242ac1c0002row1_col0{\n",
              "            background-color:  #f7aa8c;\n",
              "            color:  #000000;\n",
              "        }#T_9272a3ee_2c94_11ec_ae5e_0242ac1c0002row1_col2{\n",
              "            background-color:  #d1493f;\n",
              "            color:  #f1f1f1;\n",
              "        }#T_9272a3ee_2c94_11ec_ae5e_0242ac1c0002row1_col3,#T_9272a3ee_2c94_11ec_ae5e_0242ac1c0002row8_col4{\n",
              "            background-color:  #9dbdff;\n",
              "            color:  #000000;\n",
              "        }#T_9272a3ee_2c94_11ec_ae5e_0242ac1c0002row1_col4,#T_9272a3ee_2c94_11ec_ae5e_0242ac1c0002row2_col5,#T_9272a3ee_2c94_11ec_ae5e_0242ac1c0002row4_col1,#T_9272a3ee_2c94_11ec_ae5e_0242ac1c0002row5_col0,#T_9272a3ee_2c94_11ec_ae5e_0242ac1c0002row5_col2,#T_9272a3ee_2c94_11ec_ae5e_0242ac1c0002row5_col3,#T_9272a3ee_2c94_11ec_ae5e_0242ac1c0002row5_col6,#T_9272a3ee_2c94_11ec_ae5e_0242ac1c0002row5_col7,#T_9272a3ee_2c94_11ec_ae5e_0242ac1c0002row5_col8,#T_9272a3ee_2c94_11ec_ae5e_0242ac1c0002row9_col10,#T_9272a3ee_2c94_11ec_ae5e_0242ac1c0002row10_col9{\n",
              "            background-color:  #3b4cc0;\n",
              "            color:  #f1f1f1;\n",
              "        }#T_9272a3ee_2c94_11ec_ae5e_0242ac1c0002row1_col5{\n",
              "            background-color:  #485fd1;\n",
              "            color:  #f1f1f1;\n",
              "        }#T_9272a3ee_2c94_11ec_ae5e_0242ac1c0002row1_col6{\n",
              "            background-color:  #aec9fc;\n",
              "            color:  #000000;\n",
              "        }#T_9272a3ee_2c94_11ec_ae5e_0242ac1c0002row1_col7,#T_9272a3ee_2c94_11ec_ae5e_0242ac1c0002row7_col2{\n",
              "            background-color:  #f59d7e;\n",
              "            color:  #000000;\n",
              "        }#T_9272a3ee_2c94_11ec_ae5e_0242ac1c0002row1_col8,#T_9272a3ee_2c94_11ec_ae5e_0242ac1c0002row10_col4{\n",
              "            background-color:  #d7dce3;\n",
              "            color:  #000000;\n",
              "        }#T_9272a3ee_2c94_11ec_ae5e_0242ac1c0002row1_col9,#T_9272a3ee_2c94_11ec_ae5e_0242ac1c0002row2_col9{\n",
              "            background-color:  #6b8df0;\n",
              "            color:  #000000;\n",
              "        }#T_9272a3ee_2c94_11ec_ae5e_0242ac1c0002row1_col10,#T_9272a3ee_2c94_11ec_ae5e_0242ac1c0002row3_col10{\n",
              "            background-color:  #5572df;\n",
              "            color:  #000000;\n",
              "        }#T_9272a3ee_2c94_11ec_ae5e_0242ac1c0002row2_col0{\n",
              "            background-color:  #f08a6c;\n",
              "            color:  #000000;\n",
              "        }#T_9272a3ee_2c94_11ec_ae5e_0242ac1c0002row2_col1{\n",
              "            background-color:  #d24b40;\n",
              "            color:  #f1f1f1;\n",
              "        }#T_9272a3ee_2c94_11ec_ae5e_0242ac1c0002row2_col3,#T_9272a3ee_2c94_11ec_ae5e_0242ac1c0002row3_col4{\n",
              "            background-color:  #a6c4fe;\n",
              "            color:  #000000;\n",
              "        }#T_9272a3ee_2c94_11ec_ae5e_0242ac1c0002row2_col4,#T_9272a3ee_2c94_11ec_ae5e_0242ac1c0002row5_col1{\n",
              "            background-color:  #4055c8;\n",
              "            color:  #f1f1f1;\n",
              "        }#T_9272a3ee_2c94_11ec_ae5e_0242ac1c0002row2_col6{\n",
              "            background-color:  #92b4fe;\n",
              "            color:  #000000;\n",
              "        }#T_9272a3ee_2c94_11ec_ae5e_0242ac1c0002row2_col7{\n",
              "            background-color:  #f7a98b;\n",
              "            color:  #000000;\n",
              "        }#T_9272a3ee_2c94_11ec_ae5e_0242ac1c0002row2_col8,#T_9272a3ee_2c94_11ec_ae5e_0242ac1c0002row10_col5{\n",
              "            background-color:  #d5dbe5;\n",
              "            color:  #000000;\n",
              "        }#T_9272a3ee_2c94_11ec_ae5e_0242ac1c0002row2_col10,#T_9272a3ee_2c94_11ec_ae5e_0242ac1c0002row8_col10{\n",
              "            background-color:  #5470de;\n",
              "            color:  #000000;\n",
              "        }#T_9272a3ee_2c94_11ec_ae5e_0242ac1c0002row3_col0{\n",
              "            background-color:  #f1cdba;\n",
              "            color:  #000000;\n",
              "        }#T_9272a3ee_2c94_11ec_ae5e_0242ac1c0002row3_col1{\n",
              "            background-color:  #dddcdc;\n",
              "            color:  #000000;\n",
              "        }#T_9272a3ee_2c94_11ec_ae5e_0242ac1c0002row3_col2{\n",
              "            background-color:  #e5d8d1;\n",
              "            color:  #000000;\n",
              "        }#T_9272a3ee_2c94_11ec_ae5e_0242ac1c0002row3_col5{\n",
              "            background-color:  #a2c1ff;\n",
              "            color:  #000000;\n",
              "        }#T_9272a3ee_2c94_11ec_ae5e_0242ac1c0002row3_col6{\n",
              "            background-color:  #5875e1;\n",
              "            color:  #000000;\n",
              "        }#T_9272a3ee_2c94_11ec_ae5e_0242ac1c0002row3_col7{\n",
              "            background-color:  #d9dce1;\n",
              "            color:  #000000;\n",
              "        }#T_9272a3ee_2c94_11ec_ae5e_0242ac1c0002row3_col8,#T_9272a3ee_2c94_11ec_ae5e_0242ac1c0002row6_col8{\n",
              "            background-color:  #94b6ff;\n",
              "            color:  #000000;\n",
              "        }#T_9272a3ee_2c94_11ec_ae5e_0242ac1c0002row3_col9{\n",
              "            background-color:  #5e7de7;\n",
              "            color:  #000000;\n",
              "        }#T_9272a3ee_2c94_11ec_ae5e_0242ac1c0002row4_col0{\n",
              "            background-color:  #5a78e4;\n",
              "            color:  #000000;\n",
              "        }#T_9272a3ee_2c94_11ec_ae5e_0242ac1c0002row4_col2{\n",
              "            background-color:  #4961d2;\n",
              "            color:  #f1f1f1;\n",
              "        }#T_9272a3ee_2c94_11ec_ae5e_0242ac1c0002row4_col5{\n",
              "            background-color:  #f39778;\n",
              "            color:  #000000;\n",
              "        }#T_9272a3ee_2c94_11ec_ae5e_0242ac1c0002row4_col7{\n",
              "            background-color:  #7093f3;\n",
              "            color:  #000000;\n",
              "        }#T_9272a3ee_2c94_11ec_ae5e_0242ac1c0002row4_col8{\n",
              "            background-color:  #455cce;\n",
              "            color:  #f1f1f1;\n",
              "        }#T_9272a3ee_2c94_11ec_ae5e_0242ac1c0002row4_col9,#T_9272a3ee_2c94_11ec_ae5e_0242ac1c0002row5_col9,#T_9272a3ee_2c94_11ec_ae5e_0242ac1c0002row10_col3{\n",
              "            background-color:  #6384eb;\n",
              "            color:  #000000;\n",
              "        }#T_9272a3ee_2c94_11ec_ae5e_0242ac1c0002row4_col10{\n",
              "            background-color:  #84a7fc;\n",
              "            color:  #000000;\n",
              "        }#T_9272a3ee_2c94_11ec_ae5e_0242ac1c0002row6_col0,#T_9272a3ee_2c94_11ec_ae5e_0242ac1c0002row10_col7{\n",
              "            background-color:  #b6cefa;\n",
              "            color:  #000000;\n",
              "        }#T_9272a3ee_2c94_11ec_ae5e_0242ac1c0002row6_col1{\n",
              "            background-color:  #ebd3c6;\n",
              "            color:  #000000;\n",
              "        }#T_9272a3ee_2c94_11ec_ae5e_0242ac1c0002row6_col2,#T_9272a3ee_2c94_11ec_ae5e_0242ac1c0002row8_col7{\n",
              "            background-color:  #e1dad6;\n",
              "            color:  #000000;\n",
              "        }#T_9272a3ee_2c94_11ec_ae5e_0242ac1c0002row6_col4{\n",
              "            background-color:  #c6d6f1;\n",
              "            color:  #000000;\n",
              "        }#T_9272a3ee_2c94_11ec_ae5e_0242ac1c0002row6_col5{\n",
              "            background-color:  #adc9fd;\n",
              "            color:  #000000;\n",
              "        }#T_9272a3ee_2c94_11ec_ae5e_0242ac1c0002row6_col7{\n",
              "            background-color:  #cbd8ee;\n",
              "            color:  #000000;\n",
              "        }#T_9272a3ee_2c94_11ec_ae5e_0242ac1c0002row6_col9{\n",
              "            background-color:  #688aef;\n",
              "            color:  #000000;\n",
              "        }#T_9272a3ee_2c94_11ec_ae5e_0242ac1c0002row6_col10,#T_9272a3ee_2c94_11ec_ae5e_0242ac1c0002row10_col6{\n",
              "            background-color:  #7699f6;\n",
              "            color:  #000000;\n",
              "        }#T_9272a3ee_2c94_11ec_ae5e_0242ac1c0002row7_col0,#T_9272a3ee_2c94_11ec_ae5e_0242ac1c0002row7_col1{\n",
              "            background-color:  #f39577;\n",
              "            color:  #000000;\n",
              "        }#T_9272a3ee_2c94_11ec_ae5e_0242ac1c0002row7_col3{\n",
              "            background-color:  #aac7fd;\n",
              "            color:  #000000;\n",
              "        }#T_9272a3ee_2c94_11ec_ae5e_0242ac1c0002row7_col4{\n",
              "            background-color:  #89acfd;\n",
              "            color:  #000000;\n",
              "        }#T_9272a3ee_2c94_11ec_ae5e_0242ac1c0002row7_col5{\n",
              "            background-color:  #5b7ae5;\n",
              "            color:  #000000;\n",
              "        }#T_9272a3ee_2c94_11ec_ae5e_0242ac1c0002row7_col6{\n",
              "            background-color:  #86a9fc;\n",
              "            color:  #000000;\n",
              "        }#T_9272a3ee_2c94_11ec_ae5e_0242ac1c0002row7_col8{\n",
              "            background-color:  #bfd3f6;\n",
              "            color:  #000000;\n",
              "        }#T_9272a3ee_2c94_11ec_ae5e_0242ac1c0002row7_col9{\n",
              "            background-color:  #7597f6;\n",
              "            color:  #000000;\n",
              "        }#T_9272a3ee_2c94_11ec_ae5e_0242ac1c0002row7_col10{\n",
              "            background-color:  #6788ee;\n",
              "            color:  #000000;\n",
              "        }#T_9272a3ee_2c94_11ec_ae5e_0242ac1c0002row8_col0{\n",
              "            background-color:  #dedcdb;\n",
              "            color:  #000000;\n",
              "        }#T_9272a3ee_2c94_11ec_ae5e_0242ac1c0002row8_col1{\n",
              "            background-color:  #f3c7b1;\n",
              "            color:  #000000;\n",
              "        }#T_9272a3ee_2c94_11ec_ae5e_0242ac1c0002row8_col2{\n",
              "            background-color:  #f4c6af;\n",
              "            color:  #000000;\n",
              "        }#T_9272a3ee_2c94_11ec_ae5e_0242ac1c0002row8_col3{\n",
              "            background-color:  #8badfd;\n",
              "            color:  #000000;\n",
              "        }#T_9272a3ee_2c94_11ec_ae5e_0242ac1c0002row8_col5{\n",
              "            background-color:  #98b9ff;\n",
              "            color:  #000000;\n",
              "        }#T_9272a3ee_2c94_11ec_ae5e_0242ac1c0002row8_col6{\n",
              "            background-color:  #7da0f9;\n",
              "            color:  #000000;\n",
              "        }#T_9272a3ee_2c94_11ec_ae5e_0242ac1c0002row8_col9{\n",
              "            background-color:  #445acc;\n",
              "            color:  #f1f1f1;\n",
              "        }#T_9272a3ee_2c94_11ec_ae5e_0242ac1c0002row9_col0,#T_9272a3ee_2c94_11ec_ae5e_0242ac1c0002row9_col1,#T_9272a3ee_2c94_11ec_ae5e_0242ac1c0002row9_col5{\n",
              "            background-color:  #cad8ef;\n",
              "            color:  #000000;\n",
              "        }#T_9272a3ee_2c94_11ec_ae5e_0242ac1c0002row9_col3{\n",
              "            background-color:  #6c8ff1;\n",
              "            color:  #000000;\n",
              "        }#T_9272a3ee_2c94_11ec_ae5e_0242ac1c0002row9_col4{\n",
              "            background-color:  #c5d6f2;\n",
              "            color:  #000000;\n",
              "        }#T_9272a3ee_2c94_11ec_ae5e_0242ac1c0002row9_col6{\n",
              "            background-color:  #6a8bef;\n",
              "            color:  #000000;\n",
              "        }#T_9272a3ee_2c94_11ec_ae5e_0242ac1c0002row9_col7,#T_9272a3ee_2c94_11ec_ae5e_0242ac1c0002row10_col2{\n",
              "            background-color:  #c0d4f5;\n",
              "            color:  #000000;\n",
              "        }#T_9272a3ee_2c94_11ec_ae5e_0242ac1c0002row9_col8{\n",
              "            background-color:  #5d7ce6;\n",
              "            color:  #000000;\n",
              "        }#T_9272a3ee_2c94_11ec_ae5e_0242ac1c0002row10_col0{\n",
              "            background-color:  #a7c5fe;\n",
              "            color:  #000000;\n",
              "        }#T_9272a3ee_2c94_11ec_ae5e_0242ac1c0002row10_col1{\n",
              "            background-color:  #bcd2f7;\n",
              "            color:  #000000;\n",
              "        }#T_9272a3ee_2c94_11ec_ae5e_0242ac1c0002row10_col8{\n",
              "            background-color:  #6e90f2;\n",
              "            color:  #000000;\n",
              "        }</style><table id=\"T_9272a3ee_2c94_11ec_ae5e_0242ac1c0002\" ><thead>    <tr>        <th class=\"blank level0\" ></th>        <th class=\"col_heading level0 col0\" >danceability</th>        <th class=\"col_heading level0 col1\" >energy</th>        <th class=\"col_heading level0 col2\" >loudness</th>        <th class=\"col_heading level0 col3\" >speechiness</th>        <th class=\"col_heading level0 col4\" >acousticness</th>        <th class=\"col_heading level0 col5\" >instrumentalness</th>        <th class=\"col_heading level0 col6\" >liveness</th>        <th class=\"col_heading level0 col7\" >valence</th>        <th class=\"col_heading level0 col8\" >tempo</th>        <th class=\"col_heading level0 col9\" >key</th>        <th class=\"col_heading level0 col10\" >mode</th>    </tr></thead><tbody>\n",
              "                <tr>\n",
              "                        <th id=\"T_9272a3ee_2c94_11ec_ae5e_0242ac1c0002level0_row0\" class=\"row_heading level0 row0\" >danceability</th>\n",
              "                        <td id=\"T_9272a3ee_2c94_11ec_ae5e_0242ac1c0002row0_col0\" class=\"data row0 col0\" >1.000000</td>\n",
              "                        <td id=\"T_9272a3ee_2c94_11ec_ae5e_0242ac1c0002row0_col1\" class=\"data row0 col1\" >0.514295</td>\n",
              "                        <td id=\"T_9272a3ee_2c94_11ec_ae5e_0242ac1c0002row0_col2\" class=\"data row0 col2\" >0.651464</td>\n",
              "                        <td id=\"T_9272a3ee_2c94_11ec_ae5e_0242ac1c0002row0_col3\" class=\"data row0 col3\" >0.326200</td>\n",
              "                        <td id=\"T_9272a3ee_2c94_11ec_ae5e_0242ac1c0002row0_col4\" class=\"data row0 col4\" >-0.479729</td>\n",
              "                        <td id=\"T_9272a3ee_2c94_11ec_ae5e_0242ac1c0002row0_col5\" class=\"data row0 col5\" >-0.649213</td>\n",
              "                        <td id=\"T_9272a3ee_2c94_11ec_ae5e_0242ac1c0002row0_col6\" class=\"data row0 col6\" >-0.042059</td>\n",
              "                        <td id=\"T_9272a3ee_2c94_11ec_ae5e_0242ac1c0002row0_col7\" class=\"data row0 col7\" >0.602011</td>\n",
              "                        <td id=\"T_9272a3ee_2c94_11ec_ae5e_0242ac1c0002row0_col8\" class=\"data row0 col8\" >0.182637</td>\n",
              "                        <td id=\"T_9272a3ee_2c94_11ec_ae5e_0242ac1c0002row0_col9\" class=\"data row0 col9\" >0.063365</td>\n",
              "                        <td id=\"T_9272a3ee_2c94_11ec_ae5e_0242ac1c0002row0_col10\" class=\"data row0 col10\" >-0.110432</td>\n",
              "            </tr>\n",
              "            <tr>\n",
              "                        <th id=\"T_9272a3ee_2c94_11ec_ae5e_0242ac1c0002level0_row1\" class=\"row_heading level0 row1\" >energy</th>\n",
              "                        <td id=\"T_9272a3ee_2c94_11ec_ae5e_0242ac1c0002row1_col0\" class=\"data row1 col0\" >0.514295</td>\n",
              "                        <td id=\"T_9272a3ee_2c94_11ec_ae5e_0242ac1c0002row1_col1\" class=\"data row1 col1\" >1.000000</td>\n",
              "                        <td id=\"T_9272a3ee_2c94_11ec_ae5e_0242ac1c0002row1_col2\" class=\"data row1 col2\" >0.851111</td>\n",
              "                        <td id=\"T_9272a3ee_2c94_11ec_ae5e_0242ac1c0002row1_col3\" class=\"data row1 col3\" >0.141131</td>\n",
              "                        <td id=\"T_9272a3ee_2c94_11ec_ae5e_0242ac1c0002row1_col4\" class=\"data row1 col4\" >-0.718676</td>\n",
              "                        <td id=\"T_9272a3ee_2c94_11ec_ae5e_0242ac1c0002row1_col5\" class=\"data row1 col5\" >-0.684493</td>\n",
              "                        <td id=\"T_9272a3ee_2c94_11ec_ae5e_0242ac1c0002row1_col6\" class=\"data row1 col6\" >0.242727</td>\n",
              "                        <td id=\"T_9272a3ee_2c94_11ec_ae5e_0242ac1c0002row1_col7\" class=\"data row1 col7\" >0.589799</td>\n",
              "                        <td id=\"T_9272a3ee_2c94_11ec_ae5e_0242ac1c0002row1_col8\" class=\"data row1 col8\" >0.340809</td>\n",
              "                        <td id=\"T_9272a3ee_2c94_11ec_ae5e_0242ac1c0002row1_col9\" class=\"data row1 col9\" >0.021619</td>\n",
              "                        <td id=\"T_9272a3ee_2c94_11ec_ae5e_0242ac1c0002row1_col10\" class=\"data row1 col10\" >-0.053763</td>\n",
              "            </tr>\n",
              "            <tr>\n",
              "                        <th id=\"T_9272a3ee_2c94_11ec_ae5e_0242ac1c0002level0_row2\" class=\"row_heading level0 row2\" >loudness</th>\n",
              "                        <td id=\"T_9272a3ee_2c94_11ec_ae5e_0242ac1c0002row2_col0\" class=\"data row2 col0\" >0.651464</td>\n",
              "                        <td id=\"T_9272a3ee_2c94_11ec_ae5e_0242ac1c0002row2_col1\" class=\"data row2 col1\" >0.851111</td>\n",
              "                        <td id=\"T_9272a3ee_2c94_11ec_ae5e_0242ac1c0002row2_col2\" class=\"data row2 col2\" >1.000000</td>\n",
              "                        <td id=\"T_9272a3ee_2c94_11ec_ae5e_0242ac1c0002row2_col3\" class=\"data row2 col3\" >0.175307</td>\n",
              "                        <td id=\"T_9272a3ee_2c94_11ec_ae5e_0242ac1c0002row2_col4\" class=\"data row2 col4\" >-0.678905</td>\n",
              "                        <td id=\"T_9272a3ee_2c94_11ec_ae5e_0242ac1c0002row2_col5\" class=\"data row2 col5\" >-0.764584</td>\n",
              "                        <td id=\"T_9272a3ee_2c94_11ec_ae5e_0242ac1c0002row2_col6\" class=\"data row2 col6\" >0.146501</td>\n",
              "                        <td id=\"T_9272a3ee_2c94_11ec_ae5e_0242ac1c0002row2_col7\" class=\"data row2 col7\" >0.543745</td>\n",
              "                        <td id=\"T_9272a3ee_2c94_11ec_ae5e_0242ac1c0002row2_col8\" class=\"data row2 col8\" >0.330447</td>\n",
              "                        <td id=\"T_9272a3ee_2c94_11ec_ae5e_0242ac1c0002row2_col9\" class=\"data row2 col9\" >0.022917</td>\n",
              "                        <td id=\"T_9272a3ee_2c94_11ec_ae5e_0242ac1c0002row2_col10\" class=\"data row2 col10\" >-0.059022</td>\n",
              "            </tr>\n",
              "            <tr>\n",
              "                        <th id=\"T_9272a3ee_2c94_11ec_ae5e_0242ac1c0002level0_row3\" class=\"row_heading level0 row3\" >speechiness</th>\n",
              "                        <td id=\"T_9272a3ee_2c94_11ec_ae5e_0242ac1c0002row3_col0\" class=\"data row3 col0\" >0.326200</td>\n",
              "                        <td id=\"T_9272a3ee_2c94_11ec_ae5e_0242ac1c0002row3_col1\" class=\"data row3 col1\" >0.141131</td>\n",
              "                        <td id=\"T_9272a3ee_2c94_11ec_ae5e_0242ac1c0002row3_col2\" class=\"data row3 col2\" >0.175307</td>\n",
              "                        <td id=\"T_9272a3ee_2c94_11ec_ae5e_0242ac1c0002row3_col3\" class=\"data row3 col3\" >1.000000</td>\n",
              "                        <td id=\"T_9272a3ee_2c94_11ec_ae5e_0242ac1c0002row3_col4\" class=\"data row3 col4\" >-0.167724</td>\n",
              "                        <td id=\"T_9272a3ee_2c94_11ec_ae5e_0242ac1c0002row3_col5\" class=\"data row3 col5\" >-0.215958</td>\n",
              "                        <td id=\"T_9272a3ee_2c94_11ec_ae5e_0242ac1c0002row3_col6\" class=\"data row3 col6\" >-0.048462</td>\n",
              "                        <td id=\"T_9272a3ee_2c94_11ec_ae5e_0242ac1c0002row3_col7\" class=\"data row3 col7\" >0.192314</td>\n",
              "                        <td id=\"T_9272a3ee_2c94_11ec_ae5e_0242ac1c0002row3_col8\" class=\"data row3 col8\" >0.080023</td>\n",
              "                        <td id=\"T_9272a3ee_2c94_11ec_ae5e_0242ac1c0002row3_col9\" class=\"data row3 col9\" >-0.021644</td>\n",
              "                        <td id=\"T_9272a3ee_2c94_11ec_ae5e_0242ac1c0002row3_col10\" class=\"data row3 col10\" >-0.054845</td>\n",
              "            </tr>\n",
              "            <tr>\n",
              "                        <th id=\"T_9272a3ee_2c94_11ec_ae5e_0242ac1c0002level0_row4\" class=\"row_heading level0 row4\" >acousticness</th>\n",
              "                        <td id=\"T_9272a3ee_2c94_11ec_ae5e_0242ac1c0002row4_col0\" class=\"data row4 col0\" >-0.479729</td>\n",
              "                        <td id=\"T_9272a3ee_2c94_11ec_ae5e_0242ac1c0002row4_col1\" class=\"data row4 col1\" >-0.718676</td>\n",
              "                        <td id=\"T_9272a3ee_2c94_11ec_ae5e_0242ac1c0002row4_col2\" class=\"data row4 col2\" >-0.678905</td>\n",
              "                        <td id=\"T_9272a3ee_2c94_11ec_ae5e_0242ac1c0002row4_col3\" class=\"data row4 col3\" >-0.167724</td>\n",
              "                        <td id=\"T_9272a3ee_2c94_11ec_ae5e_0242ac1c0002row4_col4\" class=\"data row4 col4\" >1.000000</td>\n",
              "                        <td id=\"T_9272a3ee_2c94_11ec_ae5e_0242ac1c0002row4_col5\" class=\"data row4 col5\" >0.568227</td>\n",
              "                        <td id=\"T_9272a3ee_2c94_11ec_ae5e_0242ac1c0002row4_col6\" class=\"data row4 col6\" >0.002409</td>\n",
              "                        <td id=\"T_9272a3ee_2c94_11ec_ae5e_0242ac1c0002row4_col7\" class=\"data row4 col7\" >-0.307319</td>\n",
              "                        <td id=\"T_9272a3ee_2c94_11ec_ae5e_0242ac1c0002row4_col8\" class=\"data row4 col8\" >-0.214687</td>\n",
              "                        <td id=\"T_9272a3ee_2c94_11ec_ae5e_0242ac1c0002row4_col9\" class=\"data row4 col9\" >-0.004254</td>\n",
              "                        <td id=\"T_9272a3ee_2c94_11ec_ae5e_0242ac1c0002row4_col10\" class=\"data row4 col10\" >0.100662</td>\n",
              "            </tr>\n",
              "            <tr>\n",
              "                        <th id=\"T_9272a3ee_2c94_11ec_ae5e_0242ac1c0002level0_row5\" class=\"row_heading level0 row5\" >instrumentalness</th>\n",
              "                        <td id=\"T_9272a3ee_2c94_11ec_ae5e_0242ac1c0002row5_col0\" class=\"data row5 col0\" >-0.649213</td>\n",
              "                        <td id=\"T_9272a3ee_2c94_11ec_ae5e_0242ac1c0002row5_col1\" class=\"data row5 col1\" >-0.684493</td>\n",
              "                        <td id=\"T_9272a3ee_2c94_11ec_ae5e_0242ac1c0002row5_col2\" class=\"data row5 col2\" >-0.764584</td>\n",
              "                        <td id=\"T_9272a3ee_2c94_11ec_ae5e_0242ac1c0002row5_col3\" class=\"data row5 col3\" >-0.215958</td>\n",
              "                        <td id=\"T_9272a3ee_2c94_11ec_ae5e_0242ac1c0002row5_col4\" class=\"data row5 col4\" >0.568227</td>\n",
              "                        <td id=\"T_9272a3ee_2c94_11ec_ae5e_0242ac1c0002row5_col5\" class=\"data row5 col5\" >1.000000</td>\n",
              "                        <td id=\"T_9272a3ee_2c94_11ec_ae5e_0242ac1c0002row5_col6\" class=\"data row5 col6\" >-0.158129</td>\n",
              "                        <td id=\"T_9272a3ee_2c94_11ec_ae5e_0242ac1c0002row5_col7\" class=\"data row5 col7\" >-0.575559</td>\n",
              "                        <td id=\"T_9272a3ee_2c94_11ec_ae5e_0242ac1c0002row5_col8\" class=\"data row5 col8\" >-0.264024</td>\n",
              "                        <td id=\"T_9272a3ee_2c94_11ec_ae5e_0242ac1c0002row5_col9\" class=\"data row5 col9\" >-0.003653</td>\n",
              "                        <td id=\"T_9272a3ee_2c94_11ec_ae5e_0242ac1c0002row5_col10\" class=\"data row5 col10\" >0.062859</td>\n",
              "            </tr>\n",
              "            <tr>\n",
              "                        <th id=\"T_9272a3ee_2c94_11ec_ae5e_0242ac1c0002level0_row6\" class=\"row_heading level0 row6\" >liveness</th>\n",
              "                        <td id=\"T_9272a3ee_2c94_11ec_ae5e_0242ac1c0002row6_col0\" class=\"data row6 col0\" >-0.042059</td>\n",
              "                        <td id=\"T_9272a3ee_2c94_11ec_ae5e_0242ac1c0002row6_col1\" class=\"data row6 col1\" >0.242727</td>\n",
              "                        <td id=\"T_9272a3ee_2c94_11ec_ae5e_0242ac1c0002row6_col2\" class=\"data row6 col2\" >0.146501</td>\n",
              "                        <td id=\"T_9272a3ee_2c94_11ec_ae5e_0242ac1c0002row6_col3\" class=\"data row6 col3\" >-0.048462</td>\n",
              "                        <td id=\"T_9272a3ee_2c94_11ec_ae5e_0242ac1c0002row6_col4\" class=\"data row6 col4\" >0.002409</td>\n",
              "                        <td id=\"T_9272a3ee_2c94_11ec_ae5e_0242ac1c0002row6_col5\" class=\"data row6 col5\" >-0.158129</td>\n",
              "                        <td id=\"T_9272a3ee_2c94_11ec_ae5e_0242ac1c0002row6_col6\" class=\"data row6 col6\" >1.000000</td>\n",
              "                        <td id=\"T_9272a3ee_2c94_11ec_ae5e_0242ac1c0002row6_col7\" class=\"data row6 col7\" >0.111217</td>\n",
              "                        <td id=\"T_9272a3ee_2c94_11ec_ae5e_0242ac1c0002row6_col8\" class=\"data row6 col8\" >0.079097</td>\n",
              "                        <td id=\"T_9272a3ee_2c94_11ec_ae5e_0242ac1c0002row6_col9\" class=\"data row6 col9\" >0.014303</td>\n",
              "                        <td id=\"T_9272a3ee_2c94_11ec_ae5e_0242ac1c0002row6_col10\" class=\"data row6 col10\" >0.056962</td>\n",
              "            </tr>\n",
              "            <tr>\n",
              "                        <th id=\"T_9272a3ee_2c94_11ec_ae5e_0242ac1c0002level0_row7\" class=\"row_heading level0 row7\" >valence</th>\n",
              "                        <td id=\"T_9272a3ee_2c94_11ec_ae5e_0242ac1c0002row7_col0\" class=\"data row7 col0\" >0.602011</td>\n",
              "                        <td id=\"T_9272a3ee_2c94_11ec_ae5e_0242ac1c0002row7_col1\" class=\"data row7 col1\" >0.589799</td>\n",
              "                        <td id=\"T_9272a3ee_2c94_11ec_ae5e_0242ac1c0002row7_col2\" class=\"data row7 col2\" >0.543745</td>\n",
              "                        <td id=\"T_9272a3ee_2c94_11ec_ae5e_0242ac1c0002row7_col3\" class=\"data row7 col3\" >0.192314</td>\n",
              "                        <td id=\"T_9272a3ee_2c94_11ec_ae5e_0242ac1c0002row7_col4\" class=\"data row7 col4\" >-0.307319</td>\n",
              "                        <td id=\"T_9272a3ee_2c94_11ec_ae5e_0242ac1c0002row7_col5\" class=\"data row7 col5\" >-0.575559</td>\n",
              "                        <td id=\"T_9272a3ee_2c94_11ec_ae5e_0242ac1c0002row7_col6\" class=\"data row7 col6\" >0.111217</td>\n",
              "                        <td id=\"T_9272a3ee_2c94_11ec_ae5e_0242ac1c0002row7_col7\" class=\"data row7 col7\" >1.000000</td>\n",
              "                        <td id=\"T_9272a3ee_2c94_11ec_ae5e_0242ac1c0002row7_col8\" class=\"data row7 col8\" >0.237012</td>\n",
              "                        <td id=\"T_9272a3ee_2c94_11ec_ae5e_0242ac1c0002row7_col9\" class=\"data row7 col9\" >0.052903</td>\n",
              "                        <td id=\"T_9272a3ee_2c94_11ec_ae5e_0242ac1c0002row7_col10\" class=\"data row7 col10\" >0.006719</td>\n",
              "            </tr>\n",
              "            <tr>\n",
              "                        <th id=\"T_9272a3ee_2c94_11ec_ae5e_0242ac1c0002level0_row8\" class=\"row_heading level0 row8\" >tempo</th>\n",
              "                        <td id=\"T_9272a3ee_2c94_11ec_ae5e_0242ac1c0002row8_col0\" class=\"data row8 col0\" >0.182637</td>\n",
              "                        <td id=\"T_9272a3ee_2c94_11ec_ae5e_0242ac1c0002row8_col1\" class=\"data row8 col1\" >0.340809</td>\n",
              "                        <td id=\"T_9272a3ee_2c94_11ec_ae5e_0242ac1c0002row8_col2\" class=\"data row8 col2\" >0.330447</td>\n",
              "                        <td id=\"T_9272a3ee_2c94_11ec_ae5e_0242ac1c0002row8_col3\" class=\"data row8 col3\" >0.080023</td>\n",
              "                        <td id=\"T_9272a3ee_2c94_11ec_ae5e_0242ac1c0002row8_col4\" class=\"data row8 col4\" >-0.214687</td>\n",
              "                        <td id=\"T_9272a3ee_2c94_11ec_ae5e_0242ac1c0002row8_col5\" class=\"data row8 col5\" >-0.264024</td>\n",
              "                        <td id=\"T_9272a3ee_2c94_11ec_ae5e_0242ac1c0002row8_col6\" class=\"data row8 col6\" >0.079097</td>\n",
              "                        <td id=\"T_9272a3ee_2c94_11ec_ae5e_0242ac1c0002row8_col7\" class=\"data row8 col7\" >0.237012</td>\n",
              "                        <td id=\"T_9272a3ee_2c94_11ec_ae5e_0242ac1c0002row8_col8\" class=\"data row8 col8\" >1.000000</td>\n",
              "                        <td id=\"T_9272a3ee_2c94_11ec_ae5e_0242ac1c0002row8_col9\" class=\"data row8 col9\" >-0.120943</td>\n",
              "                        <td id=\"T_9272a3ee_2c94_11ec_ae5e_0242ac1c0002row8_col10\" class=\"data row8 col10\" >-0.060929</td>\n",
              "            </tr>\n",
              "            <tr>\n",
              "                        <th id=\"T_9272a3ee_2c94_11ec_ae5e_0242ac1c0002level0_row9\" class=\"row_heading level0 row9\" >key</th>\n",
              "                        <td id=\"T_9272a3ee_2c94_11ec_ae5e_0242ac1c0002row9_col0\" class=\"data row9 col0\" >0.063365</td>\n",
              "                        <td id=\"T_9272a3ee_2c94_11ec_ae5e_0242ac1c0002row9_col1\" class=\"data row9 col1\" >0.021619</td>\n",
              "                        <td id=\"T_9272a3ee_2c94_11ec_ae5e_0242ac1c0002row9_col2\" class=\"data row9 col2\" >0.022917</td>\n",
              "                        <td id=\"T_9272a3ee_2c94_11ec_ae5e_0242ac1c0002row9_col3\" class=\"data row9 col3\" >-0.021644</td>\n",
              "                        <td id=\"T_9272a3ee_2c94_11ec_ae5e_0242ac1c0002row9_col4\" class=\"data row9 col4\" >-0.004254</td>\n",
              "                        <td id=\"T_9272a3ee_2c94_11ec_ae5e_0242ac1c0002row9_col5\" class=\"data row9 col5\" >-0.003653</td>\n",
              "                        <td id=\"T_9272a3ee_2c94_11ec_ae5e_0242ac1c0002row9_col6\" class=\"data row9 col6\" >0.014303</td>\n",
              "                        <td id=\"T_9272a3ee_2c94_11ec_ae5e_0242ac1c0002row9_col7\" class=\"data row9 col7\" >0.052903</td>\n",
              "                        <td id=\"T_9272a3ee_2c94_11ec_ae5e_0242ac1c0002row9_col8\" class=\"data row9 col8\" >-0.120943</td>\n",
              "                        <td id=\"T_9272a3ee_2c94_11ec_ae5e_0242ac1c0002row9_col9\" class=\"data row9 col9\" >1.000000</td>\n",
              "                        <td id=\"T_9272a3ee_2c94_11ec_ae5e_0242ac1c0002row9_col10\" class=\"data row9 col10\" >-0.157242</td>\n",
              "            </tr>\n",
              "            <tr>\n",
              "                        <th id=\"T_9272a3ee_2c94_11ec_ae5e_0242ac1c0002level0_row10\" class=\"row_heading level0 row10\" >mode</th>\n",
              "                        <td id=\"T_9272a3ee_2c94_11ec_ae5e_0242ac1c0002row10_col0\" class=\"data row10 col0\" >-0.110432</td>\n",
              "                        <td id=\"T_9272a3ee_2c94_11ec_ae5e_0242ac1c0002row10_col1\" class=\"data row10 col1\" >-0.053763</td>\n",
              "                        <td id=\"T_9272a3ee_2c94_11ec_ae5e_0242ac1c0002row10_col2\" class=\"data row10 col2\" >-0.059022</td>\n",
              "                        <td id=\"T_9272a3ee_2c94_11ec_ae5e_0242ac1c0002row10_col3\" class=\"data row10 col3\" >-0.054845</td>\n",
              "                        <td id=\"T_9272a3ee_2c94_11ec_ae5e_0242ac1c0002row10_col4\" class=\"data row10 col4\" >0.100662</td>\n",
              "                        <td id=\"T_9272a3ee_2c94_11ec_ae5e_0242ac1c0002row10_col5\" class=\"data row10 col5\" >0.062859</td>\n",
              "                        <td id=\"T_9272a3ee_2c94_11ec_ae5e_0242ac1c0002row10_col6\" class=\"data row10 col6\" >0.056962</td>\n",
              "                        <td id=\"T_9272a3ee_2c94_11ec_ae5e_0242ac1c0002row10_col7\" class=\"data row10 col7\" >0.006719</td>\n",
              "                        <td id=\"T_9272a3ee_2c94_11ec_ae5e_0242ac1c0002row10_col8\" class=\"data row10 col8\" >-0.060929</td>\n",
              "                        <td id=\"T_9272a3ee_2c94_11ec_ae5e_0242ac1c0002row10_col9\" class=\"data row10 col9\" >-0.157242</td>\n",
              "                        <td id=\"T_9272a3ee_2c94_11ec_ae5e_0242ac1c0002row10_col10\" class=\"data row10 col10\" >1.000000</td>\n",
              "            </tr>\n",
              "    </tbody></table>"
            ],
            "text/plain": [
              "<pandas.io.formats.style.Styler at 0x7f68f9a3c1d0>"
            ]
          },
          "metadata": {},
          "execution_count": 17
        }
      ]
    },
    {
      "cell_type": "code",
      "metadata": {
        "colab": {
          "base_uri": "https://localhost:8080/"
        },
        "id": "fw3762jjlbHz",
        "outputId": "70a2e385-fe24-4fc7-d3d3-12d0d9d7a1e5"
      },
      "source": [
        "# análise dos componentes\n",
        "def components_plot(pca):\n",
        "  '''\n",
        "    Plotar os a porcentangem dos componentes para ver o quanto posso reduzir\n",
        "  '''\n",
        "  variance_sum = np.zeros(len(pca.explained_variance_ratio_))\n",
        "\n",
        "  fig = plt.figure(figsize=(8,5))\n",
        "  for idx, variance in enumerate(pca.explained_variance_ratio_):\n",
        "    variance_sum[idx] = variance_sum[idx-1] + variance\n",
        "    plt.text(idx, variance_sum[idx], \"%.2f\" % variance_sum[idx])\n",
        "\n",
        "  plt.bar(range(1, len(pca.explained_variance_ratio_)+1),pca.explained_variance_ratio_)\n",
        "  plt.plot(range(1, len(pca.explained_variance_ratio_)+1), variance_sum, marker='o',\n",
        "          label=\"Variância explicada cumulativa\")\n",
        "  \n",
        "  plt.ylabel('Variância explicada')\n",
        "  plt.xlabel('Componentes')\n",
        "  plt.legend(loc='upper left')\n",
        "  plt.title(\"Análise de Componentes Principais\")\n",
        "  plt.show()\n",
        "\n",
        "components_plot(pca)"
      ],
      "execution_count": null,
      "outputs": [
        {
          "output_type": "display_data",
          "data": {
            "image/png": "[encoded data removed]",
            "text/plain": [
              "<Figure size 576x360 with 1 Axes>"
            ]
          },
          "metadata": {
            "needs_background": "light"
          }
        }
      ]
    },
    {
      "cell_type": "markdown",
      "metadata": {
        "id": "xbWDRNRdlbH0"
      },
      "source": [
        "Vimos, assim, que é preciso de 14 componentes"
      ]
    },
    {
      "cell_type": "code",
      "metadata": {
        "id": "RJZzqcCXlbH0"
      },
      "source": [
        "n_components = 14 # variável global para todos os métodos que vão usar redução de dimensionalidade com 14 componentes"
      ],
      "execution_count": null,
      "outputs": []
    },
    {
      "cell_type": "markdown",
      "metadata": {
        "id": "C3atByO1lbH0"
      },
      "source": [
        "### Calcula PCA"
      ]
    },
    {
      "cell_type": "code",
      "metadata": {
        "id": "KWdsHTvSlbH0"
      },
      "source": [
        "def input_process(input_df, scaler, pca, n_components):\n",
        "  '''\n",
        "    Normalizar e fazer o PCA no input seguindo os modelos já postos\n",
        "  '''\n",
        "  # normaliza a entrada\n",
        "  input_df_normalized = scaler.transform(input_df)\n",
        "  input_df_normalized = pd.DataFrame(input_df_normalized)\n",
        "  # faz o pca na entrada\n",
        "  principal_components_input = pca.transform(input_df_normalized)\n",
        "  pca_cols = [\"PC%d\" %i for i in range(1, n_components+1)]\n",
        "  input_df_pca = pd.DataFrame(principal_components_input[:,:n_components], columns=pca_cols)\n",
        "\n",
        "  return input_df_pca\n",
        "\n",
        "def do_pca(principal_components, n_components):\n",
        "  '''\n",
        "    Prepara faz o pca no databse\n",
        "  '''\n",
        "  pca_cols = [\"PC%d\" %i for i in range(1, n_components+1)]\n",
        "  df_pca = pd.DataFrame(principal_components[:,:n_components], columns=pca_cols)\n",
        "\n",
        "  return df_pca\n",
        "  "
      ],
      "execution_count": null,
      "outputs": []
    },
    {
      "cell_type": "markdown",
      "metadata": {
        "id": "XmegDmdWlbH0"
      },
      "source": [
        "## Método 2\n",
        "Faz recomenação a partir da distância usando o PCA como pré processamento para redução de dimensão"
      ]
    },
    {
      "cell_type": "code",
      "metadata": {
        "id": "X9-C7xVLlbH1"
      },
      "source": [
        "def distance_pca_onehot(input_df):\n",
        "  \n",
        "  # aplica o pca\n",
        "  df_pca = do_pca(principal_components, n_components)\n",
        "  df_pca = check_existence(df_pca, input_df)\n",
        "\n",
        "  # arrumar a entrada, normalizar o dado e fazer o pca seguindo os modelos montados\n",
        "  df_input_pca = input_process(clean_df(True, input_df), scaler, pca, n_components)\n",
        "  # com o dado reduzido usamos a distância para encontrar a música mais similar\n",
        "\n",
        "  return get_recommendation_by_distance(df_input_pca, df_pca)"
      ],
      "execution_count": null,
      "outputs": []
    },
    {
      "cell_type": "markdown",
      "metadata": {
        "id": "KKfjkwkFlbH1"
      },
      "source": [
        "## Por cosseno\n",
        "Método 3 e Método 4"
      ]
    },
    {
      "cell_type": "markdown",
      "metadata": {
        "id": "bfXV9m3wlbH1"
      },
      "source": [
        "### Método 3"
      ]
    },
    {
      "cell_type": "code",
      "metadata": {
        "id": "0jox1GdElbH1"
      },
      "source": [
        "def cosine_onehot(input_df):\n",
        "  \n",
        "  input_normalized = scaler.transform(clean_df(True, input_df))\n",
        "  input_normalized = pd.DataFrame(input_normalized)\n",
        "\n",
        "  df_normalized = check_existence(normalized.copy(), input_df)\n",
        "\n",
        "  # passando dataframe para numpy\n",
        "  np_input = df_to_np(input_normalized)\n",
        "  np_db = df_to_np(df_normalized)\n",
        "\n",
        "  return get_recommendation_by_cosine(np_db, np_input)\n"
      ],
      "execution_count": null,
      "outputs": []
    },
    {
      "cell_type": "markdown",
      "metadata": {
        "id": "MCtAntp8lbH1"
      },
      "source": [
        "### Método 4"
      ]
    },
    {
      "cell_type": "code",
      "metadata": {
        "id": "SIqoCqMXlbH1"
      },
      "source": [
        "def cosine_pca_onehot(input_df):\n",
        "  \n",
        "  # aplica o pca\n",
        "  df_pca = do_pca(principal_components, n_components)\n",
        "  df_pca = check_existence(df_pca, input_df)\n",
        "\n",
        "  # arrumar a entrada, normalizar o dado e fazer o pca seguindo os modelos montados\n",
        "  df_input_pca = input_process(clean_df(True, input_df), scaler, pca, n_components)\n",
        "  # com o dado reduzido usamos a distância para encontrar a música mais similar\n",
        "\n",
        "  # passando dataframe para numpy\n",
        "  np_input_pca = df_to_np(df_input_pca)\n",
        "  np_pca = df_to_np(df_pca)\n",
        "  \n",
        "  return get_recommendation_by_cosine(np_pca, np_input_pca)\n"
      ],
      "execution_count": null,
      "outputs": []
    },
    {
      "cell_type": "markdown",
      "metadata": {
        "id": "EmUrp53nlbH2"
      },
      "source": [
        "## Kernel Gauassiano\n",
        "Aplicar similaridade por Kernel Gauissiano\n",
        "\n",
        "[Kernel Gaussiano no Scikit](\n",
        "https://scikit-learn.org/stable/modules/generated/sklearn.metrics.pairwise.rbf_kernel.html#sklearn.metrics.pairwise.rbf_kernel)\n",
        "\n",
        "- Link interessante: [Métricas de similaridade](https://scikit-learn.org/stable/modules/metrics.html)"
      ]
    },
    {
      "cell_type": "markdown",
      "metadata": {
        "id": "w9_VvkEnlbH2"
      },
      "source": [
        "### Método 5"
      ]
    },
    {
      "cell_type": "code",
      "metadata": {
        "id": "Z5ZbJiiGlbH2"
      },
      "source": [
        "def kernelgaussian_onehot(input_df):\n",
        "  input_normalized = scaler.transform(clean_df(True, input_df))\n",
        "  input_normalized = pd.DataFrame(input_normalized)\n",
        "\n",
        "  df_normalized = check_existence(normalized.copy(), input_df)\n",
        "  # passando dataframe para numpy\n",
        "  np_input = df_to_np(input_normalized)\n",
        "  np_db = df_to_np(df_normalized)\n",
        "\n",
        "  return get_recommendation_by_kernelgaussian(np_db, np_input)\n"
      ],
      "execution_count": null,
      "outputs": []
    },
    {
      "cell_type": "markdown",
      "metadata": {
        "id": "ynSQ5ujHlbH2"
      },
      "source": [
        "### Método 6"
      ]
    },
    {
      "cell_type": "code",
      "metadata": {
        "id": "wcM7I2UOlbH2"
      },
      "source": [
        "def kernelgaussian_pca_onehot(input_df):\n",
        "\n",
        "  # aplica o pca\n",
        "  df_pca = do_pca(principal_components, n_components)\n",
        "  df_pca = check_existence(df_pca, input_df)\n",
        "\n",
        "  # arrumar a entrada, normalizar o dado e fazer o pca seguindo os modelos montados\n",
        "  df_input_pca = input_process(clean_df(True, input_df), scaler, pca, n_components)\n",
        "  # com o dado reduzido usamos a distância para encontrar a música mais similar\n",
        "\n",
        "  # passando dataframe para numpy\n",
        "  np_input_pca = df_to_np(df_input_pca)\n",
        "  np_pca = df_to_np(df_pca)\n",
        "\n",
        "  return get_recommendation_by_kernelgaussian(np_pca, np_input_pca)\n"
      ],
      "execution_count": null,
      "outputs": []
    },
    {
      "cell_type": "markdown",
      "metadata": {
        "id": "bvMSPcPhlbH3"
      },
      "source": [
        "# Principal"
      ]
    },
    {
      "cell_type": "code",
      "metadata": {
        "id": "xMs0a1jDlbH3"
      },
      "source": [
        "def write_to_gsheet(sheet_name, df):\n",
        "  '''\n",
        "  Fonte: https://stackoverflow.com/questions/62917910/python-export-pandas-dataframe-to-google-sheets-solved\n",
        "  '''\n",
        "  if(sheet_name == 'Sheet6'):\n",
        "    # é preciso passar o index (nomes das músicas) para coluna para ter no google sheet\n",
        "    df.insert(1, 'track name', df.index)\n",
        "\n",
        "  # constantes para acessar a planilha\n",
        "  SERVICE_FILE_PATH='/content/drive/MyDrive/11 período/Métodos Numéricos II/Projeto Final/music-recommendation-mnii-7cc4df868042.json'\n",
        "  SPREADSHEET_ID='1ZTD2UqByTBTUK3qPPbtvgAvRwRXb0Rl8UyimejlRnBY'\n",
        "\n",
        "  # controle da onde escrever\n",
        "\n",
        "  gc = pygsheets.authorize(service_file=SERVICE_FILE_PATH)\n",
        "  sh = gc.open_by_key(SPREADSHEET_ID)\n",
        "  try:\n",
        "      sh.add_worksheet(sheet_name)\n",
        "  except:\n",
        "      pass\n",
        "  wks_write = sh.worksheet_by_title(sheet_name)\n",
        "  wks_write.set_dataframe(df, (1,1), encoding='utf-8', fit=True)\n",
        "  wks_write.frozen_rows = 1\n",
        "\n",
        "def main_onehot(inputs):\n",
        "  '''\n",
        "    Chamar todos os métodos e montar um dataframe\n",
        "  '''\n",
        "  columns = [\"type\", \"id\", \"danceability\", \"energy\", \"loudness\", \"speechiness\", \"acousticness\", \"instrumentalness\", \"liveness\", \"valence\", \"tempo\", \"key\", \"mode\", \"url\"]\n",
        "  # dataframe que permite a análise das features\n",
        "  df_analysis = pd.DataFrame(columns=columns)\n",
        "  # dataframe que permite a análise direta das recomendações\n",
        "  methods = ['Entrada', 'Distância', 'Distância com PCA', 'Cosseno', 'Cosseno com PCA', 'Kernel Gaussiano', 'Kernel Gaussiano com PCA']\n",
        "  df_analysis_rec = pd.DataFrame(columns=methods)\n",
        "\n",
        "  for i in range(len(inputs)):\n",
        "    row_rec = []\n",
        "    input_df, input_row = get_input_df(inputs[i])\n",
        "    input_df_analysis = input_row.copy()\n",
        "    input_df_analysis.insert(0, \"type\", methods[0])\n",
        "    df_analysis = df_analysis.append(input_df_analysis)\n",
        "    # monta linha para ser adicionada ao df_analysis_rec\n",
        "    row_rec.append(input_df.index[0])\n",
        "\n",
        "    # método 1: distância, o ingênuo\n",
        "    temp = distance_onehot(input_df)\n",
        "    temp.insert(0, \"type\", methods[1])\n",
        "    df_analysis = df_analysis.append(temp)\n",
        "\n",
        "    link_text =  '=HYPERLINK(\"' + temp['url'][0] + '\"; \"' + temp.index[0] + '\")'\n",
        "    row_rec.append(link_text)\n",
        "\n",
        "    # método 2: PCA como pré processamento e distância\n",
        "    temp = distance_pca_onehot(input_df)\n",
        "    temp.insert(0, \"type\", methods[2])\n",
        "    df_analysis = df_analysis.append(temp)\n",
        "    \n",
        "    link_text =  '=HYPERLINK(\"' + temp['url'][0] + '\"; \"' + temp.index[0] + '\")'\n",
        "    row_rec.append(link_text)\n",
        "\n",
        "    # método 3: similaridade por coseno\n",
        "    temp = cosine_onehot(input_df)\n",
        "    temp.insert(0, \"type\", methods[3])\n",
        "    df_analysis = df_analysis.append(temp)\n",
        "\n",
        "    link_text =  '=HYPERLINK(\"' + temp['url'][0] + '\"; \"' + temp.index[0] + '\")'\n",
        "    row_rec.append(link_text)\n",
        "\n",
        "    # método 4: similaridade por coseno com PCA como pré processamento\n",
        "    temp = cosine_pca_onehot(input_df)\n",
        "    temp.insert(0, \"type\", methods[4])\n",
        "    df_analysis = df_analysis.append(temp)\n",
        "\n",
        "    link_text =  '=HYPERLINK(\"' + temp['url'][0] + '\"; \"' + temp.index[0] + '\")'\n",
        "    row_rec.append(link_text)\n",
        "\n",
        "    # método 5: similaridade por kernel gaussiano\n",
        "    temp = kernelgaussian_onehot(input_df)\n",
        "    temp.insert(0, \"type\", methods[5])\n",
        "    df_analysis = df_analysis.append(temp)\n",
        "    \n",
        "    link_text =  '=HYPERLINK(\"' + temp['url'][0] + '\"; \"' + temp.index[0] + '\")'\n",
        "    row_rec.append(link_text)\n",
        "\n",
        "    # método 6: similaridade por kernel gaussiano com PCA como pré processamento\n",
        "    temp = kernelgaussian_pca_onehot(input_df)\n",
        "    temp.insert(0, \"type\", methods[6])\n",
        "    df_analysis = df_analysis.append(temp)\n",
        "    \n",
        "    link_text =  '=HYPERLINK(\"' + temp['url'][0] + '\"; \"' + temp.index[0] + '\")'\n",
        "    row_rec.append(link_text)\n",
        "\n",
        "    # incluir uma linha vazia no meu dataframe para facilitar a visualização\n",
        "    df_analysis = df_analysis.append(pd.DataFrame([[''] * 14], columns=columns))\n",
        "\n",
        "    # montar o dataframe de df_analysis_rec\n",
        "    df_analysis_rec = df_analysis_rec.append(pd.DataFrame([row_rec], columns=methods))\n",
        "  \n",
        "  return df_analysis, df_analysis_rec\n"
      ],
      "execution_count": null,
      "outputs": []
    },
    {
      "cell_type": "code",
      "metadata": {
        "id": "K9UhuKltlbH4"
      },
      "source": [
        "inputs = ['https://open.spotify.com/track/1uXbwHHfgsXcUKfSZw5ZJ0', 'https://open.spotify.com/track/5CQ30WqJwcep0pYcV4AMNc', 'https://open.spotify.com/track/3hj6jHDmZfoQdukMi6bWF6',\n",
        "          'https://open.spotify.com/track/06ND7qqsmIRCuWdQNQIlTE', 'https://open.spotify.com/track/3CYH422oy1cZNoo0GTG1TK', 'https://open.spotify.com/track/0WhDotK0QXigmsrlw0DxKK',\n",
        "          'https://open.spotify.com/track/7bdhM9AJqWAIHooF4sh3wW', 'https://open.spotify.com/track/11Y1IGMIThaxu4ijcXRNYs', 'https://open.spotify.com/track/0JSux25Te5HYMSr2D64d02',\n",
        "          'https://open.spotify.com/track/6JRLFiX9NJSoRRKxowlBYr', \n",
        "          'https://open.spotify.com/track/5b7OgznPJJr1vHNYGyvxau', 'https://open.spotify.com/track/4gs07VlJST4bdxGbBsXVue', 'https://open.spotify.com/track/0gLXF5LtNkqDoeVVGjCsEu'\n",
        "          'https://open.spotify.com/track/6o7PwG10h3Nx7zy4RsP9Kh', 'https://open.spotify.com/track/2HtcPHFdo7eu4Ilbvb0BVI', 'https://open.spotify.com/track/0tdUSzLEtBoReXlUwUFwxI',\n",
        "          'https://open.spotify.com/track/5SZhO7VvDvzvcEWWdmuHAX', 'https://open.spotify.com/track/3tjFYV6RSFtuktYl3ZtYcq', 'https://open.spotify.com/track/19vSLuatpsI4bvVMFudMsX', \n",
        "          'https://open.spotify.com/track/6o7PwG10h3Nx7zy4RsP9Kh', 'https://open.spotify.com/track/47Bg6IrMed1GPbxRgwH2aC', 'https://open.spotify.com/track/2I8h3leADCieT3mcp1F3wK', \n",
        "          'https://open.spotify.com/track/5b7OgznPJJr1vHNYGyvxau', 'https://open.spotify.com/track/4h7CVH9xtHoYSlEV5Dpamk', 'https://open.spotify.com/track/1jDJFeK9x3OZboIAHsY9k2',\n",
        "          'https://open.spotify.com/track/0DM3OOyh0WNOD3unnkzb6Y', 'https://open.spotify.com/track/6EDO9iiTtwNv6waLwa1UUq', 'https://open.spotify.com/track/34pRqzRiFcIuyRMuuEayzY',\n",
        "          'https://open.spotify.com/track/0XPsOSYzDJZJArevQNm2AR', 'https://open.spotify.com/track/4G3kLyHp4335rXLzaoTmVu', 'https://open.spotify.com/track/4wzt5Rrk3W98pHXAqutuJw',\n",
        "          'https://open.spotify.com/track/2KzwC4HDRCiEdBIOOFMLib', 'https://open.spotify.com/track/05FE7j2amBfbz0lPrZvafD', 'https://open.spotify.com/track/5fdNHVZHbWB1AaXk4RBGVD',\n",
        "          'https://open.spotify.com/track/1wTuMYmA3AJC7zKg6cuu19', 'https://open.spotify.com/track/3ePoh7vNGKOTuzjMNOB7I7', 'https://open.spotify.com/track/2sEk5R8ErGIFxbZ7rX6S2S',\n",
        "          'https://open.spotify.com/track/3c6RDwikvuqI9aZxRkibcY', 'https://open.spotify.com/track/1Se9OjFwgSh05eRyOmDjLl', 'https://open.spotify.com/track/40YcuQysJ0KlGQTeGUosTC',\n",
        "          'https://open.spotify.com/track/3CN9WtSBqCI6TXne9XNomb', 'https://open.spotify.com/track/3uPWXSXEf1F7vsJrycRcJV', 'https://open.spotify.com/track/7xoUc6faLbCqZO6fQEYprd',\n",
        "          'https://open.spotify.com/track/2TnJd3aCJcRcLylI44ms9f', 'https://open.spotify.com/track/73SpzrcaHk0RQPFP73vqVR', 'https://open.spotify.com/track/2YBN2v1sRizy1bQQFMlDEI',\n",
        "          'https://open.spotify.com/track/03eyEi4Of1tAtEyvMSzvAd', 'https://open.spotify.com/track/2vlaOc3YYt7WLYIYxoJgYB', 'https://open.spotify.com/track/3jnoftwNCmIuTNVkxakisg',\n",
        "          'https://open.spotify.com/track/4Ijct6HkKsC9HQVgcnMe7C', 'https://open.spotify.com/track/3t0Dw9zYFXK4ezJxbM3rbj', 'https://open.spotify.com/track/2mT90njSZN473BKy6seMzY',\n",
        "          'https://open.spotify.com/track/2QjOHCTQ1Jl3zawyYOpxh6', 'https://open.spotify.com/track/4SxtjfUfvCe4NoeDAY0YhF', 'https://open.spotify.com/track/1tmRlF5pFo8G5OfJYUjWrR',\n",
        "          'https://open.spotify.com/track/2aKoElQmZWu2ZMCB3f2tbc', 'https://open.spotify.com/track/0ntQJM78wzOLVeCUAW7Y45', 'https://open.spotify.com/track/3dY01QlTN8AUHIiN3oJiKU',\n",
        "          'https://open.spotify.com/track/5HCyWlXZPP0y6Gqq8TgA20', 'https://open.spotify.com/track/6gBlkT2u5P7UyZUYH8WnKz', 'https://open.spotify.com/track/1HNkqx9Ahdgi1Ixy2xkKkL',\n",
        "          'https://open.spotify.com/track/4R2kfaDFhslZEMJqAFNpdd', 'https://open.spotify.com/track/6p8eFfPw3nQkf37aT3AkmK', 'https://open.spotify.com/track/7MnT7msJZg3XBAS0OTfGrB',\n",
        "          'https://open.spotify.com/track/6DCZcSspjsKoFjzjrWoCdn', 'https://open.spotify.com/track/5aWhs651KYM26HYM16kRdk', 'https://open.spotify.com/track/2DgdHcjWmO3qd50RzuBLgZ',\n",
        "          'https://open.spotify.com/track/4JOP8ELK6AaeySe7sKe996', 'https://open.spotify.com/track/3AJwUDP919kvQ9QcozQPxg', 'https://open.spotify.com/track/69HzZ3ti9DLwb0GdWCGYSo',\n",
        "          'https://open.spotify.com/track/5S4PZ7AuYlYiVIVik3wHUf', 'https://open.spotify.com/track/5kI4eCXXzyuIUXjQra0Cxi', 'https://open.spotify.com/track/5PjdY0CKGZdEuoNab3yDmX',\n",
        "          'https://open.spotify.com/track/2aTKrdenCq5qBOoJPFdn4P', 'https://open.spotify.com/track/7p2RlyF403KmPmZm2TxKl3', 'https://open.spotify.com/track/2P5yIMu2DNeMXTyOANKS6k',\n",
        "          'https://open.spotify.com/track/4aqyP4KT80wKKCwasqWJEP', 'https://open.spotify.com/track/52CBUrIdyf8tbZaUY9iawE', 'https://open.spotify.com/track/6nzXkCBOhb2mxctNihOqbb', \n",
        "          'https://open.spotify.com/track/5XXw0UOmMFf919EXBB6hfI', 'https://open.spotify.com/track/1hmcogF6Lz6QqiibEZqXjQ', 'https://open.spotify.com/track/0TcFqXBMga80dWkWbzIl7p',\n",
        "          'https://open.spotify.com/track/6GFeGBw3yUoRLzMfF7MomZ', 'https://open.spotify.com/track/11xOwUHV7P1q7UpEQuMIrx', 'https://open.spotify.com/track/7nX1m12HTyIyiATwrcHCUh',\n",
        "          'https://open.spotify.com/track/2KlKUge1mpUnuz4MaZNOww', 'https://open.spotify.com/track/5JCoSi02qi3jJeHdZXMmR8', 'https://open.spotify.com/track/4vJr55lngvhSM8WIh9CjQc',\n",
        "          'https://open.spotify.com/track/7CrNF9zL7tIQ2269DVxzST', 'https://open.spotify.com/track/4OPXu7B65cEQQx3jXrAdk4', 'https://open.spotify.com/track/5FVd6KXrgO9B3JPmC8OPst',\n",
        "          'https://open.spotify.com/track/0zG0LzLbVueZll4drMFPgz', 'https://open.spotify.com/track/22Vo18MZsUIVkim1rDvKHB', 'https://open.spotify.com/track/1yiQ58cQrQH2xLF2AuvFq2', \n",
        "          'https://open.spotify.com/track/5SixeLvPsYpk7qq9lo5xYg', 'https://open.spotify.com/track/462OPOKW0VMbvW9H7HIb0U', 'https://open.spotify.com/track/2GIh8nwczPZH4UrzSXK8vp',\n",
        "          'https://open.spotify.com/track/6FZDfxM3a3UCqtzo5pxSLZ', 'https://open.spotify.com/track/1yf97yL1ll8FYXC27c9VTw', 'https://open.spotify.com/track/7csaDGDtVQcT7VGAN5ead9',\n",
        "          'https://open.spotify.com/track/4NknsYwkHVIeCxEq18UXCv', 'https://open.spotify.com/track/6qCjZi4wOpRZty2wZtyeO0', 'https://open.spotify.com/track/27NovPIUIRrOZoCHxABJwK',\n",
        "          'https://open.spotify.com/track/54KFQB6N4pn926IUUYZGzK', 'https://open.spotify.com/track/0u2P5u6lvoDfwTYjAADbn4', 'https://open.spotify.com/track/22sDLvlzAJzH0BHiMSOfRP',\n",
        "          'https://open.spotify.com/track/36rXRdVigyIu1HA4F31zgf', 'https://open.spotify.com/track/35A47KgYS5dcKPPJbz6a3S', 'https://open.spotify.com/track/6ecJczd5RBRwv7W4NMKc8w',\n",
        "          'https://open.spotify.com/track/0ENvhTTww1MVOulrzuxSmu', 'https://open.spotify.com/track/6giaOyDFbE4J8iclhCdW7E', 'https://open.spotify.com/track/07OvVAqHyJi4ffgeLbAPUe',\n",
        "          'https://open.spotify.com/track/06WnUZymWyJamDivTWqJZA', 'https://open.spotify.com/track/4EpZ4eYuZOwPSSwyqpdHnJ']\n",
        "df_analysis, df_analysis_rec = main_onehot(inputs)\n",
        "# ao final do loop já escrevo o que consegui na planilha\n",
        "write_to_gsheet('Sheet6', df_analysis.copy())\n",
        "write_to_gsheet('Sheet7', df_analysis_rec.copy())"
      ],
      "execution_count": null,
      "outputs": []
    },
    {
      "cell_type": "markdown",
      "metadata": {
        "id": "U7GhI2cVjHWa"
      },
      "source": [
        "# Clusterização"
      ]
    },
    {
      "cell_type": "code",
      "metadata": {
        "id": "Zpo0BNjlO6BM"
      },
      "source": [
        "df_pca = do_pca(principal_components, n_components=14)"
      ],
      "execution_count": null,
      "outputs": []
    },
    {
      "cell_type": "code",
      "metadata": {
        "id": "tMCJXVPHPzrT"
      },
      "source": [
        "N_CLUSTERS = 10"
      ],
      "execution_count": null,
      "outputs": []
    },
    {
      "cell_type": "code",
      "metadata": {
        "colab": {
          "base_uri": "https://localhost:8080/",
          "height": 295
        },
        "id": "BluM1vW5PwvF",
        "outputId": "04b27605-bec4-43a7-b27f-b78b33ad0603"
      },
      "source": [
        "erro = []\n",
        "models_kmeans = []\n",
        "for i in range(1, N_CLUSTERS+1):\n",
        "  kmeans = KMeans(n_clusters=i, random_state=0, n_init=100).fit(df_pca)\n",
        "  models_kmeans.append(kmeans)\n",
        "  erro.append(kmeans.inertia_)\n",
        "\n",
        "plt.plot(range(1, N_CLUSTERS+1), erro, marker='o')\n",
        "\n",
        "plt.ylabel('Soma do erro de cada ponto ao centróide')\n",
        "plt.xlabel('Números de clusters')\n",
        "plt.title(\"K-Means\")\n",
        "plt.show()"
      ],
      "execution_count": null,
      "outputs": [
        {
          "output_type": "display_data",
          "data": {
            "image/png": "[encoded data removed]",
            "text/plain": [
              "<Figure size 432x288 with 1 Axes>"
            ]
          },
          "metadata": {
            "needs_background": "light"
          }
        }
      ]
    },
    {
      "cell_type": "code",
      "metadata": {
        "colab": {
          "base_uri": "https://localhost:8080/",
          "height": 350
        },
        "id": "ehkPBufyW54k",
        "outputId": "a5800e3b-6161-480f-a7af-5bb2b12750e3"
      },
      "source": [
        "# Recuperando os valores do modelo com 2 clusters\n",
        "qtd_cluster = 4\n",
        "labels_kmeans = models_kmeans[qtd_cluster-1].labels_\n",
        "cluster = np.unique(labels_kmeans)\n",
        "\n",
        "df_pca_com_label = df_pca.copy()\n",
        "df_pca_com_label['label'] = labels_kmeans\n",
        "\n",
        "colors = np.array([\"red\", \"green\", \"blue\", \"purple\", \"orange\", \"black\", \"yellow\", \"brown\", \"pink\"])\n",
        "c=colors[labels_kmeans]\n",
        "plt.figure(figsize=(8,5))\n",
        "for i in cluster:\n",
        "  cluster_matrix = df_pca_com_label.loc[df_pca_com_label['label'] == i].to_numpy()\n",
        "  plt.scatter(cluster_matrix[:,0], cluster_matrix[:,1], c=colors[i], label=i)\n",
        "  \n",
        "plt.title(\"Dados em 2D agrupados por K-Means\")\n",
        "plt.xlabel(\"PC1\")\n",
        "plt.ylabel(\"PC2\")\n",
        "plt.legend()\n",
        "plt.show()"
      ],
      "execution_count": null,
      "outputs": [
        {
          "output_type": "display_data",
          "data": {
            "image/png": "[encoded data removed]",
            "text/plain": [
              "<Figure size 576x360 with 1 Axes>"
            ]
          },
          "metadata": {
            "needs_background": "light"
          }
        }
      ]
    },
    {
      "cell_type": "code",
      "metadata": {
        "colab": {
          "base_uri": "https://localhost:8080/",
          "height": 350
        },
        "id": "NuPoapYKQebL",
        "outputId": "d9b5b119-5131-48db-d25d-61a36cf36895"
      },
      "source": [
        "# Recuperando os valores do modelo com 2 clusters\n",
        "qtd_cluster = 3\n",
        "labels_kmeans = models_kmeans[qtd_cluster-1].labels_\n",
        "\n",
        "colors = np.array([\"red\", \"green\", \"blue\", \"yellow\", \"orange\", \"black\"])\n",
        "c=colors[labels_kmeans]\n",
        "plt.figure(figsize=(8,5))\n",
        "cluster = np.unique(labels_kmeans)\n",
        "\n",
        "df_pca_com_label = df_pca.copy()\n",
        "df_pca_com_label['label'] = labels_kmeans\n",
        "\n",
        "for i in cluster:\n",
        "  cluster_matrix = df_pca_com_label.loc[df_pca_com_label['label'] == i].to_numpy()\n",
        "  plt.scatter(cluster_matrix[:,0], cluster_matrix[:,1], c=colors[i], label=i)\n",
        "\n",
        "plt.title(\"Dados em 2D agrupados por K-Means\")\n",
        "plt.xlabel(\"PC1\")\n",
        "plt.ylabel(\"PC2\")\n",
        "plt.legend()\n",
        "plt.show()"
      ],
      "execution_count": null,
      "outputs": [
        {
          "output_type": "display_data",
          "data": {
            "image/png": "[encoded data removed]",
            "text/plain": [
              "<Figure size 576x360 with 1 Axes>"
            ]
          },
          "metadata": {
            "needs_background": "light"
          }
        }
      ]
    }
  ]
}